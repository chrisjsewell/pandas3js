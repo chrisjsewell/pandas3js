{
 "cells": [
  {
   "cell_type": "markdown",
   "metadata": {},
   "source": [
    "# Example 1"
   ]
  },
  {
   "cell_type": "code",
   "execution_count": null,
   "metadata": {
    "collapsed": true
   },
   "outputs": [],
   "source": [
    "import pandas as pd\n",
    "import pandas3js as pjs\n",
    "\n",
    "data = {'1':{'id':[0,1,2],\n",
    "             'geometry':{\n",
    "                 'x':[0,1,2],'y':[0,1,0],'z':[0,0,1]},\n",
    "              'c1':'blue','c2':'red'},\n",
    "        '2':{'id':[0,1,2],\n",
    "             'geometry':{\n",
    "                 'x':[0,.5,1],'y':[0,0,1],'z':[0,0.5,1]},\n",
    "              'c1':'blue','c2':'red'}}\n",
    "\n",
    "def change_func(cdata,options):\n",
    "    df = pd.DataFrame(cdata['geometry'])\n",
    "    ctype = options.get('color','c1')\n",
    "    df['id'] = cdata['id']\n",
    "    df['color'] = cdata[ctype]\n",
    "    df['radius'] = 0.5\n",
    "    df['label'] = 'A'\n",
    "    df['otype'] = 'pandas3js.Sphere'\n",
    "    return df\n",
    "\n",
    "gui, gcollect = pjs.create_gui(change_func,data,\n",
    "                    height=200,width=200,\n",
    "                    view=(3,-3,-3,3),otype_column='otype',\n",
    "                    opts_dd={'color':['c1','c2']})"
   ]
  },
  {
   "cell_type": "code",
   "execution_count": null,
   "metadata": {},
   "outputs": [],
   "source": [
    "gui"
   ]
  },
  {
   "cell_type": "code",
   "execution_count": null,
   "metadata": {
    "scrolled": true
   },
   "outputs": [],
   "source": [
    "trait_df = gcollect.trait_df()\n",
    "trait_df"
   ]
  },
  {
   "cell_type": "code",
   "execution_count": null,
   "metadata": {},
   "outputs": [],
   "source": [
    "trait_df.transparency = 0.1\n",
    "gcollect.change_by_df(trait_df,\n",
    "                      otype_column='otype')"
   ]
  },
  {
   "cell_type": "markdown",
   "metadata": {
    "collapsed": true
   },
   "source": [
    "# Example 2"
   ]
  },
  {
   "cell_type": "code",
   "execution_count": null,
   "metadata": {
    "collapsed": true
   },
   "outputs": [],
   "source": [
    "import numpy as np \n",
    "import pandas as pd\n",
    "import pandas3js as pjs\n",
    "\n",
    "def change_func(cdata,options):\n",
    "    # change id each time to generate new object\n",
    "    df = pd.DataFrame({\n",
    "        'id':[np.random.randint(10**3)],\n",
    "        'color':[options['Color']],\n",
    "        'otype':[options['Object']],\n",
    "         'x':[options['x']],\n",
    "         'visible':[options['Visible']]})\n",
    "    return df\n",
    "\n",
    "gui, gcollect = pjs.create_gui(change_func,\n",
    "       opts_dd={'Visible':[True,False],\n",
    "                'Object':['pandas3js.Sphere',\n",
    "                     'pandas3js.Line', 'pandas3js.WireBox']},\n",
    "       dd_min=4,\n",
    "       opts_color={'Color':'blue'},opts_slide={'x':range(-2,3)},\n",
    "       height=200,width=200,add_labels=False,\n",
    "       view=(3,-3,-3,3),otype_column='otype')"
   ]
  },
  {
   "cell_type": "code",
   "execution_count": null,
   "metadata": {},
   "outputs": [],
   "source": [
    "gui"
   ]
  },
  {
   "cell_type": "code",
   "execution_count": null,
   "metadata": {
    "collapsed": true
   },
   "outputs": [],
   "source": []
  }
 ],
 "metadata": {
  "hide_input": false,
  "kernelspec": {
   "display_name": "Python 2",
   "language": "python",
   "name": "python2"
  },
  "language_info": {
   "codemirror_mode": {
    "name": "ipython",
    "version": 2
   },
   "file_extension": ".py",
   "mimetype": "text/x-python",
   "name": "python",
   "nbconvert_exporter": "python",
   "pygments_lexer": "ipython2",
   "version": "2.7.13"
  },
  "nav_menu": {},
  "toc": {
   "navigate_menu": true,
   "number_sections": true,
   "sideBar": true,
   "threshold": 4,
   "toc_cell": false,
   "toc_section_display": "block",
   "toc_window_display": false
  }
 },
 "nbformat": 4,
 "nbformat_minor": 2
}
