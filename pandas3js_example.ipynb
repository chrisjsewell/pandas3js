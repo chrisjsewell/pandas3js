{
 "cells": [
  {
   "cell_type": "code",
   "execution_count": 1,
   "metadata": {
    "init_cell": true
   },
   "outputs": [
    {
     "name": "stdout",
     "output_type": "stream",
     "text": [
      "0.1.6\n"
     ]
    }
   ],
   "source": [
    "import numpy as np \n",
    "import pandas as pd\n",
    "import pandas3js as pjs\n",
    "print(pjs.__version__)"
   ]
  },
  {
   "cell_type": "markdown",
   "metadata": {},
   "source": [
    "# Empty GUI"
   ]
  },
  {
   "cell_type": "code",
   "execution_count": null,
   "metadata": {},
   "outputs": [],
   "source": [
    "gui, geometry, opts = pjs.views.create_gui(camera_position=[0,0,-10])\n",
    "gui"
   ]
  },
  {
   "cell_type": "code",
   "execution_count": null,
   "metadata": {},
   "outputs": [],
   "source": [
    "geometry.add_object(pjs.models.Sphere(id=1,color='blue',label='S'))\n",
    "geometry.add_object(pjs.models.Box(id=2,position=[1,1,1],\n",
    "                                   color='green',label='B'))\n",
    "geometry"
   ]
  },
  {
   "cell_type": "markdown",
   "metadata": {},
   "source": [
    "# Simple GUI Options and Callback"
   ]
  },
  {
   "cell_type": "code",
   "execution_count": null,
   "metadata": {},
   "outputs": [],
   "source": [
    "def callback(geometry, options):\n",
    "    for obj in geometry:\n",
    "        obj.label = options['label']\n",
    "        obj.color = options['color']\n",
    "        obj.transparency = options['opaque']\n",
    "    return\n",
    "  \n",
    "geometry = pjs.models.GeometricCollection()\n",
    "geometry.add_object(pjs.models.Sphere(id=1,label='S'))\n",
    "geometry.add_object(pjs.models.Box(id=2,position=[2,1,1],\n",
    "                                   label='B'))\n",
    "\n",
    "gui, geometry, opts = pjs.views.create_gui(geometry, callback,\n",
    "                                     opts_choice={'label':['A','B']},\n",
    "                                     opts_color={'color':'blue'},\n",
    "                                     opts_range={'opaque':np.arange(1.0, 0.1, -0.1)})\n",
    "gui"
   ]
  },
  {
   "cell_type": "code",
   "execution_count": null,
   "metadata": {},
   "outputs": [],
   "source": [
    "opts"
   ]
  },
  {
   "cell_type": "markdown",
   "metadata": {
    "collapsed": true
   },
   "source": [
    "# Object Types"
   ]
  },
  {
   "cell_type": "code",
   "execution_count": null,
   "metadata": {
    "collapsed": true
   },
   "outputs": [],
   "source": []
  },
  {
   "cell_type": "code",
   "execution_count": null,
   "metadata": {},
   "outputs": [],
   "source": [
    "def change_func(geometry,options):\n",
    "    # change id each time to generate new object\n",
    "    df = pd.DataFrame({\n",
    "        'id':[np.random.randint(10**3)],\n",
    "        'color':[options['Color']],\n",
    "        'transparency':.8,\n",
    "        'otype':['pandas3js.models.'+options['Object']],\n",
    "         'position':[(options['x'],0,0)],\n",
    "         'visible':[options['Visible']]})\n",
    "    if 'Icosahedron' in options['Object']:\n",
    "        df['detail'] = 1\n",
    "    if 'Triclinic' in options['Object']:\n",
    "        pjs.utils.tuple_to_df(df,'b',(0.5,1,0))\n",
    "        pjs.utils.tuple_to_df(df,'c',(0,.5,1))\n",
    "    geometry.change_by_df(df,otype_column='otype')\n",
    "\n",
    "gui, gcollect, opts = pjs.views.create_gui(callback=change_func,\n",
    "       opts_choice={'Visible':[True,False],\n",
    "                'Object':['Sphere','Box','Line', \n",
    "                'TriclinicWire','TriclinicSolid',\n",
    "                'Octahedron','Icosahedron','Circle',\n",
    "                'Plane']},\n",
    "       opts_color={'Color':'red'},opts_range={'x':range(0,5)},\n",
    "       height=200,width=200,add_labels=False,\n",
    "       view=(3,-3,-2,4),otype_column='otype',\n",
    "        orthographic=True)\n",
    "\n",
    "gui"
   ]
  },
  {
   "cell_type": "markdown",
   "metadata": {},
   "source": [
    "# Options Initialisation and Layout"
   ]
  },
  {
   "cell_type": "code",
   "execution_count": null,
   "metadata": {},
   "outputs": [],
   "source": [
    "data = {'1':{'id':[0,1,2],\n",
    "             'position':[(0,1,0),(1,1,0),(2,0,1)],\n",
    "             'name':['A','B','C'],\n",
    "             'charge':[1,-1,.5],\n",
    "             'c1':'blue','c2':'red'},\n",
    "        '2':{'id':[0,1,2],\n",
    "             'position':[(0,1,0),(.5,0,.5),(1,1,1)],\n",
    "             'name':['A','B','C'],\n",
    "             'charge':[1,-1,.5],\n",
    "             'c1':'blue','c2':'red'}}\n",
    "\n",
    "def callback(geometry,options):\n",
    "    \"\"\" converts the data and options \n",
    "        to a dataframe of geometry \n",
    "    \"\"\"\n",
    "    cdata = data[options['Configuration']]\n",
    "    df = pd.DataFrame(cdata)[['id','position']]\n",
    "    df['otype'] = 'pandas3js.models.Sphere'\n",
    "    ctype = options.get('Color','c1')\n",
    "    df['color'] = cdata[ctype]\n",
    "    df['radius'] = options.get('Radius',1)\n",
    "    df['label'] = cdata['name']\n",
    "    df['other_info'] = ['a sphere<br>charge = %.2f $C.m^{-3}$' % q \n",
    "                        for q in cdata['charge']]\n",
    "    geometry.change_by_df(df,otype_column='otype')\n",
    "\n",
    "gui, gcollect, opts = pjs.views.create_gui(callback=callback,\n",
    "            height=200,width=200,camera_position=[.5,0,-4],\n",
    "            show_object_info=True,otype_column='otype',\n",
    "            opts_choice={'Color':['c1','c2']},\n",
    "            opts_range={'Configuration':['1','2'],\n",
    "                       'Radius':np.arange(0.1,2,.1).round(2)},\n",
    "            layout=[('Configuration',['Configuration']),\n",
    "                    ('Geometry',['Color','Radius'])],\n",
    "            initial_values={'Color':'c2','Radius':.4})\n",
    "gui"
   ]
  },
  {
   "cell_type": "code",
   "execution_count": null,
   "metadata": {
    "scrolled": true
   },
   "outputs": [],
   "source": [
    "trait_df = gcollect.trait_df()\n",
    "trait_df"
   ]
  },
  {
   "cell_type": "code",
   "execution_count": null,
   "metadata": {
    "collapsed": true
   },
   "outputs": [],
   "source": [
    "trait_df.transparency = 0.1\n",
    "gcollect.change_by_df(trait_df.loc[0:1],\n",
    "                      remove_missing=True,\n",
    "                      otype_column='otype')"
   ]
  },
  {
   "cell_type": "markdown",
   "metadata": {
    "collapsed": true
   },
   "source": [
    "# Use with jsonextended to visualise simulations"
   ]
  },
  {
   "cell_type": "code",
   "execution_count": null,
   "metadata": {},
   "outputs": [],
   "source": [
    "# pip install jsonextended\n",
    "from jsonextended import edict, utils, _example_data_folder\n",
    "from jsonextended.complex_parsers import crystal_dft"
   ]
  },
  {
   "cell_type": "code",
   "execution_count": null,
   "metadata": {},
   "outputs": [],
   "source": [
    "datapath = utils.get_data_path('data.crystal.out',_example_data_folder)\n",
    "parser = crystal_dft.CrystalDFTParser()\n",
    "data = parser.read_file(datapath)"
   ]
  },
  {
   "cell_type": "code",
   "execution_count": null,
   "metadata": {},
   "outputs": [],
   "source": [
    "data = edict.combine_lists(data,['id','x/a','y/b','z/c','atomic_number'],'ixyzn')\n",
    "geometry = pjs.models.GeometricCollection()\n",
    "\n",
    "# create bounding box\n",
    "ldict = data['initial']['primitive']['lattice_parameters']\n",
    "a_vec, b_vec, c_vec = pjs.atom.lattice_from_params(\n",
    "     *[ldict[s] for s in ('a','b','c','alpha','beta','gamma')])\n",
    "bbox = pjs.models.TriclinicWire(id=-1,a=a_vec,b=b_vec,c=c_vec,color='black')  \n",
    "geometry.add_object(bbox)\n",
    "\n",
    "# create atoms\n",
    "for d in data['initial']['primitive']['geometry']['ixyzn'].values():\n",
    "    x,y,z = d['x/a']*a_vec+d['y/b']*b_vec+d['z/c']*c_vec\n",
    "    #atom = pjs.models.Sphere(id=d['id'],position=(x,y,z))\n",
    "    atom = pjs.models.Icosahedron(id=d['id'],position=(x,y,z),detail=1)\n",
    "    atom.color = atom.label_color = pjs.atom.map_atoms(d['atomic_number'],'color')\n",
    "    atom.radius = pjs.atom.map_atoms(d['atomic_number'],'RCov')\n",
    "    atom.label = pjs.atom.map_atoms(d['atomic_number'],'Symbol')\n",
    "    geometry.add_object(atom)    \n",
    "\n",
    "# repeat unit cell\n",
    "pjs.atom.repeat_cell(geometry,a_vec)\n",
    "pjs.atom.repeat_cell(geometry,b_vec)\n",
    "\n",
    "def callback(geometry, options):\n",
    "    for obj in geometry:\n",
    "        if options['Hide Fe'] and obj.label == 'Fe':\n",
    "            obj.visible = False\n",
    "        else:\n",
    "            obj.visible = True\n",
    "\n",
    "gui, geometry, opts = pjs.views.create_gui(geometry,callback,\n",
    "                                     opts_choice={'Hide Fe':[False,True]},\n",
    "                                     orthographic=True,add_labels=True)\n",
    "gui"
   ]
  },
  {
   "cell_type": "code",
   "execution_count": null,
   "metadata": {
    "collapsed": true
   },
   "outputs": [],
   "source": []
  }
 ],
 "metadata": {
  "hide_input": false,
  "kernelspec": {
   "display_name": "Python 3",
   "language": "python",
   "name": "python3"
  },
  "language_info": {
   "codemirror_mode": {
    "name": "ipython",
    "version": 3
   },
   "file_extension": ".py",
   "mimetype": "text/x-python",
   "name": "python",
   "nbconvert_exporter": "python",
   "pygments_lexer": "ipython3",
   "version": "3.6.1"
  },
  "nav_menu": {},
  "toc": {
   "colors": {
    "hover_highlight": "#DAA520",
    "navigate_num": "#000000",
    "navigate_text": "#333333",
    "running_highlight": "#FF0000",
    "selected_highlight": "#FFD700",
    "sidebar_border": "#EEEEEE",
    "wrapper_background": "#FFFFFF"
   },
   "moveMenuLeft": true,
   "nav_menu": {
    "height": "105px",
    "width": "252px"
   },
   "navigate_menu": true,
   "number_sections": true,
   "sideBar": true,
   "threshold": 4,
   "toc_cell": false,
   "toc_section_display": "block",
   "toc_window_display": false,
   "widenNotebook": false
  }
 },
 "nbformat": 4,
 "nbformat_minor": 2
}
