{
 "cells": [
  {
   "cell_type": "markdown",
   "metadata": {},
   "source": [
    "# Example 1: Configurations"
   ]
  },
  {
   "cell_type": "code",
   "execution_count": null,
   "metadata": {
    "collapsed": true
   },
   "outputs": [],
   "source": [
    "data = {'1':{'id':[0,1,2],\n",
    "             'position':[(0,1,0),(1,1,0),(2,0,1)],\n",
    "             'name':['A','B','C'],\n",
    "             'charge':[1,-1,.5],\n",
    "             'c1':'blue','c2':'red'},\n",
    "        '2':{'id':[0,1,2],\n",
    "             'position':[(0,1,0),(.5,0,.5),(1,1,1)],\n",
    "             'name':['A','B','C'],\n",
    "             'charge':[1,-1,.5],\n",
    "             'c1':'blue','c2':'red'}}"
   ]
  },
  {
   "cell_type": "code",
   "execution_count": null,
   "metadata": {},
   "outputs": [],
   "source": [
    "import pandas as pd\n",
    "import pandas3js as pjs\n",
    "\n",
    "def change_func(cdata,options):\n",
    "    df = pd.DataFrame(cdata)[['id','position']]\n",
    "    ctype = options.get('color','c1')\n",
    "    df['color'] = cdata[ctype]\n",
    "    df['radius'] = 0.5\n",
    "    df['label'] = cdata['name']\n",
    "    df['other_info'] = ['a sphere<br>charge = %.2f $C.m^{-3}$' % q \n",
    "                        for q in cdata['charge']]\n",
    "    df['otype'] = 'pandas3js.models.Sphere'\n",
    "    return df\n",
    "\n",
    "gui, gcollect = pjs.views.create_gui(change_func,data,\n",
    "                    height=200,width=200,camera_position=[.5,0,-4],\n",
    "                    view=(3,-3,-3,3),otype_column='otype',\n",
    "                    opts_dd={'color':['c1','c2']})"
   ]
  },
  {
   "cell_type": "code",
   "execution_count": null,
   "metadata": {},
   "outputs": [],
   "source": [
    "gui"
   ]
  },
  {
   "cell_type": "code",
   "execution_count": null,
   "metadata": {
    "scrolled": true
   },
   "outputs": [],
   "source": [
    "trait_df = gcollect.trait_df()\n",
    "trait_df"
   ]
  },
  {
   "cell_type": "code",
   "execution_count": null,
   "metadata": {},
   "outputs": [],
   "source": [
    "trait_df.transparency = 0.1\n",
    "gcollect.change_by_df(trait_df.loc[0:1],\n",
    "                      remove_missing=True,\n",
    "                      otype_column='otype')"
   ]
  },
  {
   "cell_type": "markdown",
   "metadata": {
    "collapsed": true
   },
   "source": [
    "# Example 2: Object Types"
   ]
  },
  {
   "cell_type": "code",
   "execution_count": null,
   "metadata": {},
   "outputs": [],
   "source": [
    "import numpy as np \n",
    "import pandas as pd\n",
    "import pandas3js as pjs\n",
    "\n",
    "def change_func(cdata,options):\n",
    "    # change id each time to generate new object\n",
    "    df = pd.DataFrame({\n",
    "        'id':[np.random.randint(10**3)],\n",
    "        'color':[options['Color']],\n",
    "        'transparency':.8,\n",
    "        'otype':['pandas3js.models.'+options['Object']],\n",
    "         'position':[(options['x'],0,0)],\n",
    "         'visible':[options['Visible']]})\n",
    "    if 'Triclinic' in options['Object']:\n",
    "        pjs.utils.tuple_to_df(df,'b',(0.5,1,0))\n",
    "        pjs.utils.tuple_to_df(df,'c',(0,.5,1))\n",
    "    return df\n",
    "\n",
    "gui, gcollect = pjs.views.create_gui(change_func,\n",
    "       opts_dd={'Visible':[True,False],\n",
    "                'Object':['Sphere','Box','Line', \n",
    "                'TriclinicWire','TriclinicSolid',\n",
    "                'Octahedron','Icosahedron','Circle',\n",
    "                'Plane']},\n",
    "       opts_color={'Color':'red'},opts_slide={'x':range(0,5)},\n",
    "       height=200,width=200,add_labels=False,\n",
    "       view=(3,-3,-2,4),otype_column='otype')"
   ]
  },
  {
   "cell_type": "code",
   "execution_count": null,
   "metadata": {},
   "outputs": [],
   "source": [
    "gui"
   ]
  },
  {
   "cell_type": "code",
   "execution_count": null,
   "metadata": {
    "collapsed": true
   },
   "outputs": [],
   "source": []
  }
 ],
 "metadata": {
  "hide_input": false,
  "kernelspec": {
   "display_name": "Python 2",
   "language": "python",
   "name": "python2"
  },
  "language_info": {
   "codemirror_mode": {
    "name": "ipython",
    "version": 2
   },
   "file_extension": ".py",
   "mimetype": "text/x-python",
   "name": "python",
   "nbconvert_exporter": "python",
   "pygments_lexer": "ipython2",
   "version": "2.7.13"
  },
  "nav_menu": {},
  "toc": {
   "navigate_menu": true,
   "number_sections": true,
   "sideBar": true,
   "threshold": 4,
   "toc_cell": false,
   "toc_section_display": "block",
   "toc_window_display": false
  }
 },
 "nbformat": 4,
 "nbformat_minor": 2
}
