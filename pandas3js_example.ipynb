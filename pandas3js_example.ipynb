{
 "cells": [
  {
   "cell_type": "markdown",
   "metadata": {},
   "source": [
    "# Example"
   ]
  },
  {
   "cell_type": "code",
   "execution_count": 35,
   "metadata": {
    "collapsed": true
   },
   "outputs": [],
   "source": [
    "import pandas as pd\n",
    "import pandas3js as pjs\n",
    "\n",
    "data = {'1':{'id':[0,1,2],\n",
    "             'geometry':{\n",
    "                 'x':[0,1,2],'y':[0,1,0],'z':[0,0,1]},\n",
    "              'c1':'blue','c2':'red'},\n",
    "        '2':{'id':[0,1,2],\n",
    "             'geometry':{\n",
    "                 'x':[0,.5,1],'y':[0,0,1],'z':[0,0.5,1]},\n",
    "              'c1':'blue','c2':'red'}}\n",
    "\n",
    "def change_func(cdata,options):\n",
    "    df = pd.DataFrame(cdata['geometry'])\n",
    "    ctype = options.get('color','c1')\n",
    "    df['id'] = cdata['id']\n",
    "    df['color'] = cdata[ctype]\n",
    "    df['radius'] = 0.5\n",
    "    df['label'] = 'A'\n",
    "    df['otype'] = 'pandas3js.Sphere'\n",
    "    return df\n",
    "\n",
    "gui, gcollect = pjs.create_config_gui(data,change_func,\n",
    "                    height=200,width=200,\n",
    "                    view=(3,-3,-3,3),otype_column='otype',\n",
    "                    add_options={'color':['c1','c2']})"
   ]
  },
  {
   "cell_type": "code",
   "execution_count": 36,
   "metadata": {},
   "outputs": [
    {
     "data": {
      "application/vnd.jupyter.widget-view+json": {
       "model_id": "1674466a2f444bd0898a073f9b05353b"
      }
     },
     "metadata": {},
     "output_type": "display_data"
    }
   ],
   "source": [
    "gui"
   ]
  },
  {
   "cell_type": "code",
   "execution_count": null,
   "metadata": {
    "scrolled": true
   },
   "outputs": [],
   "source": [
    "trait_df = gcollect.trait_df()\n",
    "trait_df"
   ]
  },
  {
   "cell_type": "code",
   "execution_count": 38,
   "metadata": {
    "collapsed": true
   },
   "outputs": [],
   "source": [
    "trait_df.transparency = 0.1\n",
    "gcollect.change_by_df(trait_df,\n",
    "                      otype_column='otype')"
   ]
  },
  {
   "cell_type": "code",
   "execution_count": null,
   "metadata": {
    "collapsed": true
   },
   "outputs": [],
   "source": []
  }
 ],
 "metadata": {
  "hide_input": false,
  "kernelspec": {
   "display_name": "Python 3",
   "language": "python",
   "name": "python3"
  },
  "language_info": {
   "codemirror_mode": {
    "name": "ipython",
    "version": 3
   },
   "file_extension": ".py",
   "mimetype": "text/x-python",
   "name": "python",
   "nbconvert_exporter": "python",
   "pygments_lexer": "ipython3",
   "version": "3.6.1"
  },
  "nav_menu": {},
  "toc": {
   "colors": {
    "hover_highlight": "#DAA520",
    "navigate_num": "#000000",
    "navigate_text": "#333333",
    "running_highlight": "#FF0000",
    "selected_highlight": "#FFD700",
    "sidebar_border": "#EEEEEE",
    "wrapper_background": "#FFFFFF"
   },
   "moveMenuLeft": true,
   "navigate_menu": true,
   "number_sections": true,
   "sideBar": true,
   "threshold": 4,
   "toc_cell": false,
   "toc_section_display": "block",
   "toc_window_display": false,
   "widenNotebook": false
  }
 },
 "nbformat": 4,
 "nbformat_minor": 2
}
