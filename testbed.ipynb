{
 "cells": [
  {
   "cell_type": "code",
   "execution_count": 1,
   "metadata": {
    "init_cell": true
   },
   "outputs": [
    {
     "name": "stdout",
     "output_type": "stream",
     "text": [
      "pandasjs version = 0.1.4.1\n",
      "jsonextended version = 0.1.3.4\n"
     ]
    }
   ],
   "source": [
    "import pandas3js as pjs\n",
    "print('pandasjs version = {}'.format(pjs.__version__))\n",
    "import jsonextended as ejson\n",
    "print('jsonextended version = {}'.format(ejson.__version__))\n",
    "import pandas as pd\n",
    "import numpy as np\n",
    "import pythreejs as tjs\n",
    "import traitlets as trait\n",
    "import ipywidgets as widget"
   ]
  },
  {
   "cell_type": "code",
   "execution_count": 2,
   "metadata": {},
   "outputs": [
    {
     "name": "stdout",
     "output_type": "stream",
     "text": [
      "dir1: \n",
      "  dir1_1: \n",
      "    file1_1: {...}\n",
      "  file1: \n",
      "    initial: {...}\n",
      "    meta: {...}\n",
      "    optimised: {...}\n",
      "    units: {...}\n",
      "  file2: \n",
      "    initial: {...}\n",
      "    meta: {...}\n",
      "    optimisation: {...}\n",
      "    optimised: {...}\n",
      "    units: {...}\n",
      "dir2: \n",
      "  file1: \n",
      "    initial: {...}\n",
      "    meta: {...}\n",
      "    optimisation: {...}\n",
      "    optimised: {...}\n",
      "    units: {...}\n",
      "dir3: \n"
     ]
    }
   ],
   "source": [
    "data = ejson.json_to_dict(ejson.get_test_path())\n",
    "ejson.dict_pprint(data, depth=3)"
   ]
  },
  {
   "cell_type": "code",
   "execution_count": 3,
   "metadata": {},
   "outputs": [
    {
     "data": {
      "text/plain": [
       "count       89.000000\n",
       "mean    -24062.286741\n",
       "std          0.012361\n",
       "min     -24062.293964\n",
       "25%     -24062.293727\n",
       "50%     -24062.293491\n",
       "75%     -24062.278072\n",
       "max     -24062.207939\n",
       "dtype: float64"
      ]
     },
     "execution_count": 3,
     "metadata": {},
     "output_type": "execute_result"
    }
   ],
   "source": [
    "data = ejson.dict_remove_paths(data, ['units'])\n",
    "energies = ejson.dict_filter_keys(data, ['energy'])\n",
    "pd.Series(ejson.dict_flatten(energies)).describe()"
   ]
  },
  {
   "cell_type": "code",
   "execution_count": 4,
   "metadata": {},
   "outputs": [
    {
     "data": {
      "text/plain": [
       "count    8.900000e+01\n",
       "mean    -9.214157e-19\n",
       "std      4.733481e-25\n",
       "min     -9.214159e-19\n",
       "25%     -9.214159e-19\n",
       "50%     -9.214159e-19\n",
       "75%     -9.214153e-19\n",
       "max     -9.214126e-19\n",
       "dtype: float64"
      ]
     },
     "execution_count": 4,
     "metadata": {},
     "output_type": "execute_result"
    }
   ],
   "source": [
    "energies = ejson.units.apply_unitschema(energies, {'energy':'eV'})\n",
    "energies = ejson.units.apply_unitschema(energies, {'energy':'kcal'},as_quantity=False)\n",
    "pd.Series(ejson.dict_flatten(energies)).describe()"
   ]
  },
  {
   "cell_type": "code",
   "execution_count": 5,
   "metadata": {},
   "outputs": [
    {
     "name": "stdout",
     "output_type": "stream",
     "text": [
      "[u'2', u'3', u'4', u'5', u'6', u'7', u'8', u'9', u'10', u'11', u'12', u'13', u'14', u'15', u'16', u'17', u'18', u'19', u'20', u'21', u'22', u'23', u'24', u'25', u'26', u'27', u'28', u'29', u'30', u'31', u'32', u'33', u'34', u'35', u'36', u'37', u'38', u'39', u'40', u'41', u'42', u'43', u'44', u'45', u'46', u'47', u'48', u'49', u'50', u'51', u'52', u'53', u'54', u'55', u'56', u'57', u'58', u'59', u'60', u'61', u'62', u'63', u'64', u'65', u'66', u'67', u'68', u'69', u'70', u'71', u'72', u'73', u'74', u'75', u'76', u'77', u'78', u'79', u'80', u'81', u'82', u'83', u'84', u'85', u'86', u'87', u'88', u'89', u'90']\n"
     ]
    }
   ],
   "source": [
    "data = ejson.json_to_dict(ejson.get_test_path())\n",
    "optimisation = ejson.dict_multiindex(data,['dir1','file2','optimisation','steps'])\n",
    "optsteps = sorted(optimisation.keys(), key=ejson.core._natural_keys)\n",
    "print(optsteps)"
   ]
  },
  {
   "cell_type": "code",
   "execution_count": 6,
   "metadata": {},
   "outputs": [
    {
     "name": "stdout",
     "output_type": "stream",
     "text": [
      "crystallographic: \n",
      "  geometry: \n",
      "    assym:         \n",
      "    atomic_number: \n",
      "    id:            \n",
      "    label:         \n",
      "    x/a:           \n",
      "    y/b:           \n",
      "    z/c:           \n",
      "  lattice_parameters: \n",
      "    a:     \n",
      "    alpha: \n",
      "    b:     \n",
      "    beta:  \n",
      "    c:     \n",
      "    gamma: \n",
      "  volume: \n",
      "energy: \n",
      "primitive: \n",
      "  density: \n",
      "  geometry: \n",
      "    assym:         \n",
      "    atomic_number: \n",
      "    id:            \n",
      "    label:         \n",
      "    x/a:           \n",
      "    y/b:           \n",
      "    z/c:           \n",
      "  lattice_parameters: \n",
      "    a:     \n",
      "    alpha: \n",
      "    b:     \n",
      "    beta:  \n",
      "    c:     \n",
      "    gamma: \n",
      "  volume:  \n"
     ]
    }
   ],
   "source": [
    "ejson.dict_pprint(optimisation['2'],\n",
    "                  depth=None,no_values=True)"
   ]
  },
  {
   "cell_type": "code",
   "execution_count": 7,
   "metadata": {},
   "outputs": [
    {
     "data": {
      "text/html": [
       "<style>\n",
       "    .renderjson a              { text-decoration: none; }\n",
       "    .renderjson .disclosure    { color: red;\n",
       "                                 font-size: 125%; }\n",
       "    .renderjson .syntax        { color: darkgrey; }\n",
       "    .renderjson .string        { color: black; }\n",
       "    .renderjson .number        { color: black; }\n",
       "    .renderjson .boolean       { color: purple; }\n",
       "    .renderjson .key           { color: royalblue; }\n",
       "    .renderjson .keyword       { color: orange; }\n",
       "    .renderjson .object.syntax { color: lightseagreen; }\n",
       "    .renderjson .array.syntax  { color: lightseagreen; }\n",
       "    </style><div id=\"b3f88925-1122-40d0-9467-3a65f2691c5a\" style=\"max-height: 600px; width:100%%;\"></div>\n",
       "                <script>\n",
       "            require([\"jsonextended/renderjson.js\"], function() {\n",
       "                document.getElementById(\"b3f88925-1122-40d0-9467-3a65f2691c5a\").appendChild(\n",
       "                    renderjson.set_max_string_length(20)\n",
       "                              //.set_icons(circled plus, circled minus)\n",
       "                              .set_icons(String.fromCharCode(8853), String.fromCharCode(8854))\n",
       "                              .set_sort_objects(true)\n",
       "                              .set_show_to_level(2)({\"energy\": -24062.207938715, \"primitive\": {\"geometry\": {\"z/c\": [0.3837117211236, 0.1162882788764, -0.3837117211236, -0.1162882788764, -0.3854685452868, -0.1145314547132, 0.3854685452868, 0.1145314547132, 0.3611870389789, 0.1388129610211, -0.3611870389789, -0.1388129610211, -0.3801666252413, -0.1198333747587, 0.3801666252413, 0.1198333747587, 0.4901707655849, 0.009829234415058, -0.4901707655849, -0.009829234415058, -0.2468772542166, -0.2531227457834, 0.2468772542166, 0.2531227457834, -0.4948465880177, -0.005153411982256, 0.4948465880177, 0.005153411982255, -0.25, 0.25], \"atomic_number\": [16, 16, 16, 16, 16, 16, 16, 16, 16, 16, 16, 16, 16, 16, 16, 16, 26, 26, 26, 26, 26, 26, 26, 26, 26, 26, 26, 26, 26, 26], \"y/b\": [-0.0286759547147, -0.2210124308332, 0.0286759547147, 0.2210124308332, -0.4738415381816, 0.2244361247749, 0.4738415381816, -0.2244361247749, -0.01972869479072, 0.2723358734368, 0.01972869479072, -0.2723358734368, -0.4702978727433, -0.2694422787886, 0.4702978727433, 0.2694422787886, -0.2296970963217, 0.02329083848925, 0.2296970963217, -0.02329083848925, 0.1367546844147, -0.3749832667905, -0.1367546844147, 0.3749832667905, -0.2162596399113, -0.4945923657986, 0.2162596399113, 0.4945923657986, -0.3780752252193, 0.3780752252193], \"label\": [\"S\", \"S\", \"S\", \"S\", \"S\", \"S\", \"S\", \"S\", \"S\", \"S\", \"S\", \"S\", \"S\", \"S\", \"S\", \"S\", \"FE\", \"FE\", \"FE\", \"FE\", \"FE1\", \"FE1\", \"FE1\", \"FE1\", \"FE\", \"FE\", \"FE\", \"FE\", \"FE1\", \"FE1\"], \"x/a\": [-0.2210124308332, -0.0286759547147, 0.2210124308332, 0.0286759547147, 0.2244361247749, -0.4738415381816, -0.2244361247749, 0.4738415381816, 0.2723358734368, -0.01972869479072, -0.2723358734368, 0.01972869479072, -0.2694422787886, -0.4702978727433, 0.2694422787886, 0.4702978727433, 0.02329083848925, -0.2296970963217, -0.02329083848925, 0.2296970963217, -0.3749832667905, 0.1367546844147, 0.3749832667905, -0.1367546844147, -0.4945923657986, -0.2162596399113, 0.4945923657986, 0.2162596399113, -0.3780752252193, 0.3780752252193], \"assym\": [true, false, false, false, true, false, false, false, true, false, false, false, true, false, false, false, true, false, false, false, true, false, false, false, true, false, false, false, true, false], \"id\": [1, 2, 3, 4, 5, 6, 7, 8, 9, 10, 11, 12, 13, 14, 15, 16, 17, 18, 19, 20, 21, 22, 23, 24, 25, 26, 27, 28, 29, 30]}, \"volume\": 479.747725, \"lattice_parameters\": {\"a\": 6.94619501, \"c\": 13.03848494, \"b\": 6.94619501, \"beta\": 114.246609, \"alpha\": 65.753391, \"gamma\": 119.98091}, \"density\": 4.481}, \"crystallographic\": {\"geometry\": {\"z/c\": [0.3837117211236, 0.1162882788764, -0.3837117211236, -0.1162882788764, -0.3854685452868, -0.1145314547132, 0.3854685452868, 0.1145314547132, 0.3611870389789, 0.1388129610211, -0.3611870389789, -0.1388129610211, -0.3801666252413, -0.1198333747587, 0.3801666252413, 0.1198333747587, 0.4901707655849, 0.009829234415058, -0.4901707655849, -0.009829234415058, -0.2468772542166, -0.2531227457834, 0.2468772542166, 0.2531227457834, -0.4948465880177, -0.005153411982256, 0.4948465880177, 0.005153411982255, -0.25, 0.25], \"atomic_number\": [16, 16, 16, 16, 16, 16, 16, 16, 16, 16, 16, 16, 16, 16, 16, 16, 26, 26, 26, 26, 26, 26, 26, 26, 26, 26, 26, 26, 26, 26], \"y/b\": [-0.1248441927739, -0.1248441927739, 0.1248441927739, 0.1248441927739, 0.3752972932967, -0.1247027067033, -0.3752972932967, 0.1247027067033, 0.1263035893231, 0.1263035893231, -0.1263035893231, -0.1263035893231, 0.1301299242341, -0.3698700757659, -0.1301299242341, 0.3698700757659, -0.1032031289162, -0.1032031289162, 0.1032031289162, 0.1032031289162, -0.1191142911879, 0.3808857088121, 0.1191142911879, -0.3808857088121, 0.1445739971451, -0.3554260028549, -0.1445739971451, 0.3554260028549, -0.3780752252193, 0.3780752252193], \"label\": [\"S\", \"S\", \"S\", \"S\", \"S\", \"S\", \"S\", \"S\", \"S\", \"S\", \"S\", \"S\", \"S\", \"S\", \"S\", \"S\", \"FE\", \"FE\", \"FE\", \"FE\", \"FE1\", \"FE1\", \"FE1\", \"FE1\", \"FE\", \"FE\", \"FE\", \"FE\", \"FE1\", \"FE1\"], \"x/a\": [-0.09616823805925, 0.09616823805925, 0.09616823805925, -0.09616823805925, -0.1508611685218, -0.3491388314782, 0.1508611685218, 0.3491388314782, 0.1460322841138, -0.1460322841138, -0.1460322841138, 0.1460322841138, -0.3995722030227, -0.1004277969773, 0.3995722030227, 0.1004277969773, 0.1264939674055, -0.1264939674055, -0.1264939674055, 0.1264939674055, -0.2558689756026, -0.2441310243974, 0.2558689756026, 0.2441310243974, 0.3608336370564, 0.1391663629436, -0.3608336370564, -0.1391663629436, 2.775557561563e-17, -2.775557561563e-17], \"assym\": [true, false, false, false, true, false, false, false, true, false, false, false, true, false, false, false, true, false, false, false, true, false, false, false, true, false, false, false, true, false], \"id\": [1, 2, 3, 4, 5, 6, 7, 8, 9, 10, 11, 12, 13, 14, 15, 16, 17, 18, 19, 20, 21, 22, 23, 24, 25, 26, 27, 28, 29, 30]}, \"volume\": 959.49545054, \"lattice_parameters\": {\"a\": 12.03000533, \"c\": 13.03848494, \"b\": 6.94819922, \"beta\": 118.309917, \"alpha\": 90.0, \"gamma\": 90.0}}}))\n",
       "            });</script>"
      ],
      "text/plain": [
       "<jsonextended.core.dict_to_html at 0x115d17f10>"
      ]
     },
     "execution_count": 7,
     "metadata": {},
     "output_type": "execute_result"
    }
   ],
   "source": [
    "ejson.dict_to_html(optimisation['2'])"
   ]
  },
  {
   "cell_type": "markdown",
   "metadata": {},
   "source": [
    "# Crystal Example"
   ]
  },
  {
   "cell_type": "code",
   "execution_count": 19,
   "metadata": {},
   "outputs": [
    {
     "name": "stdout",
     "output_type": "stream",
     "text": [
      "initial: \n",
      "  crystallographic: {...}\n",
      "  primitive: {...}\n",
      "meta: \n",
      "  converged:  True\n",
      "  input file: /export111/work/ea808/crystal/corrosion/fes_phases/ehsan/pyrrhotit \n",
      "              e_B3LYP_AFM_SL12_fullOPT.d12\n",
      "  processors: 96\n",
      "  start date: Thu Aug 18 20:03:15 BST 2016\n",
      "optimisation: \n",
      "  steps: {...}\n",
      "optimised: \n",
      "  crystallographic: {...}\n",
      "  energy: -24062.2939637\n",
      "  primitive: {...}\n",
      "scf: \n",
      "  calculation type: UNRESTRICTED OPEN SHELL\n",
      "  step:             {...}\n"
     ]
    }
   ],
   "source": [
    "datapath = ejson.utils.get_data_path('crystal_test.data',ejson.parsers)\n",
    "parser = ejson.parsers.CrystalDFTParser()\n",
    "parser.read_file(datapath)\n",
    "ejson.dict_pprint(parser.data,depth=2)"
   ]
  },
  {
   "cell_type": "code",
   "execution_count": 27,
   "metadata": {},
   "outputs": [
    {
     "name": "stdout",
     "output_type": "stream",
     "text": [
      "FDIK:                 \n",
      "  TCPU:    135.42\n",
      "  TELAPSE: 137.04\n",
      "MONMO3:               \n",
      "  TCPU:    33.15\n",
      "  TELAPSE: 34.54\n",
      "NUMDFT:               \n",
      "  TCPU:    34.61\n",
      "  TELAPSE: 36.0\n",
      "PDIG:                 \n",
      "  TCPU:    139.54\n",
      "  TELAPSE: 141.16\n",
      "SHELLX2:              \n",
      "  TCPU:    23.72\n",
      "  TELAPSE: 25.11\n",
      "charge:               [16.0, 16.0, 16.0, 16.0, 16.0, 16.0, 16.0, 16.0, 16.0, \n",
      "                      16.0, 16.0, 16.0, 16.0, 16.0, 16.0, 16.0, 26.0, 26.0, \n",
      "                      26.0, 26.0, 26.0, 26.0, 26.0, 26.0, 26.0, 26.0, 26.0, \n",
      "                      26.0, 26.0, 26.0]\n",
      "charge normalisation: 1.0\n",
      "energy:               -24054.8183445\n",
      "spin:                 [0.0, 0.0, 0.0, 0.0, 0.0, 0.0, 0.0, 0.0, 0.0, 0.0, 0.0, \n",
      "                      0.0, 0.0, 0.0, 0.0, 0.0, 2.0, 2.0, 2.0, 2.0, -2.0, -2.0, \n",
      "                      -2.0, -2.0, 2.0, 2.0, 2.0, 2.0, -2.0, -2.0]\n"
     ]
    }
   ],
   "source": [
    "ejson.dict_pprint(parser.data['scf']['step'][1],depth=2)"
   ]
  },
  {
   "cell_type": "code",
   "execution_count": 16,
   "metadata": {
    "collapsed": true
   },
   "outputs": [],
   "source": [
    "from scipy.spatial import cKDTree\n",
    "cKDTree.query_pairs\n",
    "\n",
    "def change_crystal_opt(data, options):\n",
    "    \n",
    "    geotype = 'primitive'\n",
    "\n",
    "    # lattice vectors\n",
    "    ldict = data[geotype]['lattice_parameters']\n",
    "    a_vec, b_vec, c_vec = pjs.atom.vectors_from_params(\n",
    "         *[ldict[s] for s in ('a','b','c','alpha','beta','gamma')])\n",
    "    \n",
    "    gdict = data[geotype]['geometry']\n",
    "    df = pd.DataFrame(gdict)\n",
    "        \n",
    "    df['position'] = (df['x/a'].apply(lambda x:x*a_vec) + \n",
    "       df['y/b'].apply(lambda y:y*b_vec) + \n",
    "       df['z/c'].apply(lambda z:z*c_vec))\n",
    "        \n",
    "    atom_df = pjs.atom.atomic_data()\n",
    "    df.label = df['atomic_number'].map(lambda n: atom_df.loc[n].Symbol)\n",
    "    df['color'] = df['atomic_number'].map(lambda n: atom_df.loc[n].color)\n",
    "    df['label_color'] = df['color']\n",
    "    df['radius'] = df['atomic_number'].map(lambda n: atom_df.loc[n].RCov)\n",
    "    df['transparency'] = 1\n",
    "    \n",
    "    df = df[['id','position',\n",
    "             'label','label_color',\n",
    "             'color','radius']]\n",
    "    df['transparency'] = 1\n",
    "    df['otype'] = 'pandas3js.models.Sphere'\n",
    "    \n",
    "    # sub-lattices\n",
    "    if options.get('show coordination', False):\n",
    "        for aname, anumber in (['S',16],):#,['Fe',26]):\n",
    "            r_array = np.array(df[df.label==aname]['position'].tolist())   \n",
    "            ck = cKDTree(r_array)\n",
    "            pairs = ck.query_pairs(4)\n",
    "            for i,j in pairs:\n",
    "                series = pd.Series({\n",
    "                    'position':tuple(r_array[i]),'end':tuple(r_array[j]),\n",
    "                    'color':atom_df.loc[anumber].color,'end_color':atom_df.loc[anumber].color,\n",
    "                    'otype':'pandas3js.models.Line',\n",
    "                    'id':df['id'].max()+1,'linewidth':3})\n",
    "                df = df.append(series,ignore_index=True,)\n",
    "    \n",
    "    if options.get('show cell box',False):\n",
    "        series = pd.Series({'a':tuple(a_vec),'b':tuple(b_vec),'c':tuple(c_vec),\n",
    "                            'otype':'pandas3js.models.TriclinicWire','id':-1,'color':'black'})    \n",
    "        df = df.append(series,ignore_index=True,)\n",
    "\n",
    "    return df"
   ]
  },
  {
   "cell_type": "code",
   "execution_count": 17,
   "metadata": {},
   "outputs": [
    {
     "data": {
      "application/vnd.jupyter.widget-view+json": {
       "model_id": "ef757652251448d9bc3efc3f7838ece3"
      }
     },
     "metadata": {},
     "output_type": "display_data"
    }
   ],
   "source": [
    "data = ejson.json_to_dict(ejson.get_test_path(),['dir1','file2','optimisation','steps'])\n",
    "gui, geometry = pjs.views.create_gui(change_crystal_opt,data,orthographic=True,\n",
    "                                  add_labels=False,view=(10, -10, -10, 10),\n",
    "                                  otype_column='otype',\n",
    "                                  opts_dd={'show coordination':[True, False],\n",
    "                                              'show cell box':[True,False]})\n",
    "gui"
   ]
  },
  {
   "cell_type": "markdown",
   "metadata": {
    "heading_collapsed": true
   },
   "source": [
    "# Quaternion Rotation"
   ]
  },
  {
   "cell_type": "code",
   "execution_count": 80,
   "metadata": {
    "collapsed": true,
    "hidden": true
   },
   "outputs": [],
   "source": [
    "render.camera.position = [0.15112475372064813, 0.41804944513679193, .9]"
   ]
  },
  {
   "cell_type": "code",
   "execution_count": 59,
   "metadata": {
    "hidden": true
   },
   "outputs": [
    {
     "name": "stdout",
     "output_type": "stream",
     "text": [
      "[0.04293297400510096, 0.41105752390311934, -0.01938498105751881, 0.9103915029200877]\n",
      "[0.0, 0.0, -0.4226182617406994, 0.90630778703665]\n"
     ]
    }
   ],
   "source": [
    "render = gui.children[1]\n",
    "alpha = np.radians(50)\n",
    "print(render.camera.quaternion)\n",
    "render.camera.quaternion_from_rotation([ \n",
    "                np.cos(alpha), -np.sin(alpha), 0, \n",
    "                np.sin(alpha), np.cos(alpha),  0, \n",
    "                0,             0,              1\n",
    "            ])\n",
    "print(render.camera.quaternion)\n"
   ]
  },
  {
   "cell_type": "markdown",
   "metadata": {
    "heading_collapsed": true
   },
   "source": [
    "# Implementation of Spherical Harmonics"
   ]
  },
  {
   "cell_type": "code",
   "execution_count": null,
   "metadata": {
    "collapsed": true,
    "hidden": true
   },
   "outputs": [],
   "source": [
    "np.polynomial.legendre.Legendre()"
   ]
  },
  {
   "cell_type": "code",
   "execution_count": null,
   "metadata": {
    "collapsed": true,
    "hidden": true
   },
   "outputs": [],
   "source": [
    "# from scipy.special\n",
    "\n",
    "cimport sf_error\n",
    "\n",
    "cdef extern from \"specfun_wrappers.h\":\n",
    "    double pmv_wrap(double, double, double) nogil\n",
    "\n",
    "cdef extern from \"c_misc/misc.h\":\n",
    "    double poch(double x, double m) nogil\n",
    "\n",
    "from _complexstuff cimport *\n",
    "from libc.math cimport cos, sqrt, fabs\n",
    "from libc.stdlib cimport abs\n",
    "\n",
    "cdef inline double complex sph_harmonic(int m, int n, double theta, double phi) nogil:\n",
    "    cdef double x, prefactor\n",
    "    cdef double complex val\n",
    "    cdef int mp\n",
    "    x = cos(phi)\n",
    "    if abs(m) > n :\n",
    "        sf_error.error(\"sph_harm\", sf_error.ARG, \"m should not be greater than n\")\n",
    "        return nan\n",
    "    if n < 0:\n",
    "        sf_error.error(\"sph_harm\", sf_error.ARG, \"n should not be negative\")\n",
    "        return nan\n",
    "    if m < 0:\n",
    "        mp = -m\n",
    "        prefactor = (-1)**mp * poch(n + mp + 1, -2 * mp)\n",
    "    else:\n",
    "        mp = m\n",
    "    val = pmv_wrap(mp, n, x)\n",
    "    if  m < 0:\n",
    "        val *= prefactor\n",
    "    val *= sqrt((2*n + 1) / 4.0 / pi)\n",
    "    val *= sqrt(poch(n + m + 1, -2 * m))\n",
    "    val *= zexp(1j * m * theta)\n",
    "return val\n",
    "\n",
    "poch         -- The Pochhammer symbol (rising factorial).\n",
    "/*\n",
    "* Pochhammer symbol (a)_m = gamma(a + m) / gamma(a)\n",
    "*/\n",
    "\n",
    "#include <Python.h>\n",
    "#include <numpy/npy_math.h>\n",
    "\n",
    "#include <math.h>\n",
    "#include \"cephes.h\"\n",
    "#include \"misc.h\"\n",
    "\n",
    "static double is_nonpos_int(double x)\n",
    "{\n",
    "   return x <= 0 && x == ceil(x) && fabs(x) < 1e13;\n",
    "}\n",
    "\n",
    "double poch(double a, double m)\n",
    "{\n",
    "   double r;\n",
    "\n",
    "   r = 1.0;\n",
    "\n",
    "   /*\n",
    "    * 1. Reduce magnitude of `m` to |m| < 1 by using recurrence relations.\n",
    "    *\n",
    "    * This may end up in over/underflow, but then the function itself either\n",
    "    * diverges or goes to zero. In case the remainder goes to the opposite\n",
    "    * direction, we end up returning 0*INF = NAN, which is OK.\n",
    "    */\n",
    "\n",
    "   /* Recurse down */\n",
    "   while (m >= 1.0) {\n",
    "       if (a + m == 1) {\n",
    "           break;\n",
    "       }\n",
    "       m -= 1.0;\n",
    "       r *= (a + m);\n",
    "       if (!npy_isfinite(r) || r == 0) {\n",
    "           break;\n",
    "       }\n",
    "   }\n",
    "\n",
    "   /* Recurse up */\n",
    "   while (m <= -1.0) {\n",
    "       if (a + m == 0) {\n",
    "           break;\n",
    "       }\n",
    "       r /= (a + m);\n",
    "       m += 1.0;\n",
    "       if (!npy_isfinite(r) || r == 0) {\n",
    "           break;\n",
    "       }\n",
    "   }\n",
    "\n",
    "   /*\n",
    "    * 2. Evaluate function with reduced `m`\n",
    "    *\n",
    "    * Now either `m` is not big, or the `r` product has over/underflown.\n",
    "    * If so, the function itself does similarly.\n",
    "    */\n",
    "\n",
    "   if (m == 0) {\n",
    "       /* Easy case */\n",
    "       return r;\n",
    "   }\n",
    "   else if (a > 1e4 && fabs(m) <= 1) {\n",
    "       /* Avoid loss of precision */\n",
    "       return r * pow(a, m) * (\n",
    "           1\n",
    "           + m*(m-1)/(2*a)\n",
    "           + m*(m-1)*(m-2)*(3*m-1)/(24*a*a)\n",
    "           + m*m*(m-1)*(m-1)*(m-2)*(m-3)/(48*a*a*a)\n",
    "           );\n",
    "   }\n",
    "\n",
    "   /* Check for infinity */\n",
    "   if (is_nonpos_int(a + m) && !is_nonpos_int(a) && a + m != m) {\n",
    "       return NPY_INFINITY;\n",
    "   }\n",
    "\n",
    "   /* Check for zero */\n",
    "   if (!is_nonpos_int(a + m) && is_nonpos_int(a)) {\n",
    "       return 0;\n",
    "   }\n",
    "\n",
    "   return r * exp(lgam(a + m) - lgam(a)) * gammasgn(a + m) * gammasgn(a);\n",
    "}\n",
    "\n",
    "\n",
    "double pmv_wrap(double m, double v, double x){\n",
    "  int int_m;\n",
    "  double out;\n",
    "\n",
    "  if (m != floor(m)) return NPY_NAN;\n",
    "  int_m = (int ) m;\n",
    "  F_FUNC(lpmv,LPMV)(&v, &int_m, &x, &out);\n",
    "  CONVINF(\"pmv\", out);\n",
    "  return out;\n",
    "}\n",
    "#define CONVINF(func, x)                                                \\\n",
    "    do {                                                                \\\n",
    "        if ((x) == 1.0e300) {                                           \\\n",
    "            sf_error(func, SF_ERROR_OVERFLOW, NULL);                    \\\n",
    "            (x)=NPY_INFINITY;                                           \\\n",
    "        }                                                               \\\n",
    "        if ((x)==-1.0e300) {                                            \\\n",
    "            sf_error(func, SF_ERROR_OVERFLOW, NULL);                    \\\n",
    "            (x)=-NPY_INFINITY;                                          \\\n",
    "        }                                                               \\\n",
    "    } while (0)\n"
   ]
  },
  {
   "cell_type": "code",
   "execution_count": null,
   "metadata": {
    "collapsed": true,
    "hidden": true
   },
   "outputs": [],
   "source": [
    "import math as Math\n",
    "\n",
    "m=1\n",
    "n=2\n",
    "origu = .1\n",
    "origv = .1\n",
    "\n",
    "u = 2*Math.pi*origu\n",
    "v = 2*Math.pi*origv\n",
    "\n",
    "x = Math.cos(v)\n",
    "\n",
    "if abs(m) > n:\n",
    "    print('error')\n",
    "if n < 0:\n",
    "    print('error')\n",
    "if m < 0:\n",
    "    mp = -m\n",
    "    print('todo')\n",
    "    #prefactor = (-1)**mp * poch(n + mp + 1, -2 * mp)\n",
    "else:\n",
    "    mp = m    \n",
    "\n",
    "def naive_lpmv(m, v, x):\n",
    "    poly = np.polynomial.legendre.Legendre([0]*v + [1])\n",
    "    return poly.deriv(m)(x) * (1-x*x)**(m/2) * (-1)**m\n",
    "\n",
    "val = naive_lpmv(mp,n,x)\n",
    "\n",
    "if  m < 0:\n",
    "    print('todo')\n",
    "    #val *= prefactor\n",
    "\n",
    "val *= Math.sqrt((2*n + 1) / 4.0 / Math.pi)\n",
    "val"
   ]
  },
  {
   "cell_type": "code",
   "execution_count": null,
   "metadata": {
    "collapsed": true,
    "hidden": true
   },
   "outputs": [],
   "source": [
    "%matplotlib inline\n",
    "import matplotlib.pyplot as plt\n",
    "from matplotlib import cm, colors\n",
    "from mpl_toolkits.mplot3d import Axes3D\n",
    "import numpy as np\n",
    "from scipy.special import sph_harm\n",
    "\n",
    "phi,theta = np.mgrid[0:2*np.pi:200j, 0:np.pi:100j]\n",
    "\n",
    "# The Cartesian coordinates of the unit sphere\n",
    "x = np.sin(theta) * np.cos(phi)\n",
    "y = np.sin(theta) * np.sin(phi)\n",
    "z = np.cos(theta)\n",
    "\n",
    "\n",
    "l=2\n",
    "\n",
    "for m in range(-l,l+1):\n",
    "    \n",
    "    print l,m\n",
    "\n",
    "    fig = plt.figure(figsize=plt.figaspect(1.))\n",
    "    ax = fig.add_subplot(111, projection='3d')\n",
    "    # Calculate the spherical harmonic Y(l,m) and normalize to [0,1]\n",
    "    fcolors = np.abs(sph_harm(m, l, phi, theta))\n",
    "    fmax, fmin = fcolors.max(), fcolors.min()\n",
    "    fcolors = (fcolors - fmin)/(fmax - fmin)\n",
    "\n",
    "    # Set the aspect ratio to 1 so our sphere looks spherical\n",
    "    ax.plot_surface(fcolors*x, fcolors*y, fcolors*z,  rstride=1, cstride=1, facecolors=cm.jet(fcolors))\n",
    "    # Turn off the axis planes\n",
    "    ax.set_axis_off()\n",
    "    plt.show()"
   ]
  },
  {
   "cell_type": "code",
   "execution_count": null,
   "metadata": {
    "collapsed": true,
    "hidden": true
   },
   "outputs": [],
   "source": [
    "f = \"\"\"\n",
    "function f(origu,origv) {\n",
    "    // scale u and v to the ranges I want: [0, 2*pi]\n",
    "    var u = 2*Math.PI*origu;\n",
    "    var v = 2*Math.PI*origv;\n",
    "    \n",
    "    var x = Y*Math.sin(u);\n",
    "    var y = Y*Math.cos(v);\n",
    "    var z = Y*Math.cos(u+v);\n",
    "\n",
    "    return new THREE.Vector3(x,y,z)\n",
    "}\n",
    "\"\"\"\n",
    "surf_g = tjs.ParametricGeometry(func=f);\n",
    "\n",
    "surf = tjs.Mesh(geometry=surf_g, material=tjs.LambertMaterial(color='green', side='FrontSide'))\n",
    "surf2 = tjs.Mesh(geometry=surf_g, material=tjs.LambertMaterial(color='yellow', side='BackSide'))\n",
    "scene = tjs.Scene(children=[surf, surf2, tjs.AmbientLight(color='#777777')])\n",
    "c = tjs.PerspectiveCamera(position=[5, 5, 3], up=[0, 0, 1],\n",
    "                      children=[tjs.DirectionalLight(color='white',\n",
    "                                                 position=[3, 5, 1],\n",
    "                                                 intensity=0.6)])\n",
    "renderer = tjs.Renderer(camera=c, scene=scene, controls=[tjs.OrbitControls(controlling=c)])\n",
    "renderer"
   ]
  },
  {
   "cell_type": "markdown",
   "metadata": {
    "hidden": true
   },
   "source": [
    "https://github.com/polarch/Spherical-Harmonic-Transform-JS"
   ]
  },
  {
   "cell_type": "code",
   "execution_count": 134,
   "metadata": {
    "hidden": true
   },
   "outputs": [
    {
     "data": {
      "text/plain": [
       "array([ 0.,  0.])"
      ]
     },
     "execution_count": 134,
     "metadata": {},
     "output_type": "execute_result"
    }
   ],
   "source": [
    "np.zeros(2)"
   ]
  },
  {
   "cell_type": "code",
   "execution_count": 244,
   "metadata": {
    "hidden": true
   },
   "outputs": [
    {
     "data": {
      "text/plain": [
       "6"
      ]
     },
     "execution_count": 244,
     "metadata": {},
     "output_type": "execute_result"
    }
   ],
   "source": [
    "import math as Math\n",
    "\n",
    "def factorial(n):\n",
    "    if (n == 0):\n",
    "        return 1\n",
    "    return n * factorial(n - 1)\n",
    "\n",
    "factorial(3)"
   ]
  },
  {
   "cell_type": "code",
   "execution_count": 245,
   "metadata": {
    "hidden": true
   },
   "outputs": [
    {
     "name": "stdout",
     "output_type": "stream",
     "text": [
      "[ 0.433  1.018  1.333  0.   ]\n",
      "[ 0.433  1.018  1.333  0.745  0.569  0.041  1.752  1.025  0.   ]\n",
      "[ 0.433  1.018  1.333  0.745  0.569  0.041  1.752  1.025  1.108  1.159\n",
      "  0.295  0.989  0.907  1.595  0.805  0.   ]\n"
     ]
    }
   ],
   "source": [
    "def recurseLegendrePoly(n, x, Pnm_minus1, Pnm_minus2):\n",
    "    \"\"\"computes associated Legendre functions recursively\n",
    "    \"\"\"\n",
    "\n",
    "    if n==1:\n",
    "        Pnm = [x,Math.sqrt(1-x**2)]\n",
    "    elif n==2:\n",
    "        Pnm = [((3*x**2)-1)/2, \n",
    "               3*x*Math.sqrt(1-x**2),\n",
    "               3*(1-x**2)]\n",
    "    else:\n",
    "        Pnm = np.zeros(n+1)\n",
    "        # last term m=n\n",
    "        k = 2*n-1;\n",
    "        dfact_k = 1;\n",
    "        if ((k % 2) == 0):\n",
    "            for kk in range(1,k/2+1):\n",
    "                dfact_k = dfact_k*2*kk\n",
    "        else:\n",
    "            for kk in range(1,(k+1)/2+1):\n",
    "                dfact_k = dfact_k*(2*kk-1)\n",
    "        Pnm[n] = dfact_k*Math.pow(1-x**2, n/2)\n",
    "        # before last term\n",
    "        Pnm[n-1] = (2*n-1)*x*Pnm_minus1[n-1] # P_{n(n-1)} = (2*n-1)*x*P_{(n-1)(n-1)}\n",
    "        # three term recursence for the rest\n",
    "        for m in range(0,n-1):\n",
    "            temp1 = (2*n-1)*x*Pnm_minus1[m];\n",
    "            temp2 = (n+m-1)*Pnm_minus2[m];\n",
    "            Pnm[m] = (temp1-temp2)/(n-m); # P_l = ( (2l-1)xP_(l-1) - (l+m-1)P_(l-2) )/(l-m)\n",
    "\n",
    "    return Pnm\n",
    "\n",
    "# computeRealSH computes real spherical harmonics up to order N\n",
    "def computeRealSH(N, azi, elev):\n",
    "\n",
    "    factorials = np.zeros(2*N+1)\n",
    "    # precompute factorials\n",
    "    for i in range(0,2*N+1):\n",
    "        factorials[i] = factorial(i)\n",
    "    Ndirs = 1;\n",
    "    Nsh = (N+1)*(N+1);\n",
    "    leg_n_minus1 = 0;\n",
    "    leg_n_minus2 = 0;\n",
    "    leg_n = None;\n",
    "    sinel = Math.sin(elev);\n",
    "    index_n = 0;\n",
    "    Y_N = np.zeros(Nsh);\n",
    "\n",
    "    for n in range(0, N+1):\n",
    "        if (n==0):\n",
    "            Y_N[n] = 1;\n",
    "        else:\n",
    "            leg_n = recurseLegendrePoly(n, sinel, leg_n_minus1, leg_n_minus2);\n",
    "            Nn0 = Math.sqrt(2*n+1);\n",
    "            for m in range(0, n+1):\n",
    "                if (m==0):\n",
    "                    Y_N[index_n+n] = Nn0*leg_n[m];\n",
    "                else:\n",
    "                    Nnm = Nn0*Math.sqrt( 2 * factorials[n-m]/factorials[n+m] );\n",
    "                    cosmazi = Math.cos(m*azi);\n",
    "                    sinmazi = Math.sin(m*azi);\n",
    "                    Y_N[index_n+n-m] = Nnm * leg_n[m] * sinmazi;\n",
    "                    Y_N[index_n+n+m] = Nnm * leg_n[m] * cosmazi;\n",
    "\n",
    "            index_n = index_n+2*n+1;\n",
    "\n",
    "        leg_n_minus2 = leg_n_minus1;\n",
    "        leg_n_minus1 = leg_n;\n",
    "    return Y_N;\n",
    "\n",
    "origu,origv=.1,.1\n",
    "\n",
    "# scale u and v to the ranges I want: [0, 2*pi]\n",
    "u = 1*Math.pi*origu;\n",
    "v = 2*Math.pi*origv;\n",
    "\n",
    "x = Math.sin(u)*Math.cos(v);\n",
    "y = Math.sin(u)*Math.sin(v);\n",
    "z = Math.cos(u);\n",
    "\n",
    "for i in range(1,4):\n",
    "    Y = np.abs(computeRealSH(i,u,v));\n",
    "    print(np.round(Y,3))\n",
    "#(Y*x,Y*y,Y*z)"
   ]
  },
  {
   "cell_type": "code",
   "execution_count": 166,
   "metadata": {
    "collapsed": true,
    "hidden": true
   },
   "outputs": [],
   "source": [
    "f3 = \"\"\"\n",
    "function f(origu,origv) {\n",
    "    // factorial compute factorial\n",
    "    var factorial = function (n) {\n",
    "        if (n === 0) return 1;\n",
    "        return n * factorial(n - 1);\n",
    "    }\n",
    "\n",
    "    // recurseLegendrePoly computes associated Legendre functions recursively\n",
    "    var recurseLegendrePoly = function (n, x, Pnm_minus1, Pnm_minus2) {\n",
    "\n",
    "        var Pnm = new Array(n+1);\n",
    "        switch(n) {\n",
    "            case 1:\n",
    "                var x2 = x*x;\n",
    "                var P10 = x;\n",
    "                var P11 = Math.sqrt(1-x2);\n",
    "                Pnm[0] = P10;\n",
    "                Pnm[1] = P11;\n",
    "                break;\n",
    "            case 2:\n",
    "                var x2 = x*x;\n",
    "                var P20 = 3*x2;\n",
    "                P20 = P20*1;\n",
    "                P20 = P20/2;\n",
    "                var P21 = 1-x2;\n",
    "                P21 = Math.sqrt(P21);\n",
    "                P21 = 3*P21;\n",
    "                P21 = P21*x;\n",
    "                var P22 = 1-x2;\n",
    "                P22 = 3*P22;\n",
    "                Pnm[0] = P20;\n",
    "                Pnm[1] = P21;\n",
    "                Pnm[2] = P22;\n",
    "                break;\n",
    "            default:\n",
    "                var x2 = x*x;\n",
    "                var one_min_x2 = 1-x2;\n",
    "                // last term m=n\n",
    "                var k = 2*n-1;\n",
    "                var dfact_k = 1;\n",
    "                if ((k % 2) == 0) {\n",
    "                    for (var kk=1; kk<k/2+1; kk++) dfact_k = dfact_k*2*kk;\n",
    "                }\n",
    "                else {\n",
    "                    for (var kk=1; kk<(k+1)/2+1; kk++) dfact_k = dfact_k*(2*kk-1);\n",
    "                }\n",
    "                Pnm[n] = dfact_k * Math.pow(one_min_x2, n/2);\n",
    "                // before last term\n",
    "                Pnm[n-1] = (2*n-1)*x*Pnm_minus1[n-1]; // P_{n(n-1)} = (2*n-1)*x*P_{(n-1)(n-1)}\n",
    "                // three term recursence for the rest\n",
    "                for (var m=0; m<n-1; m++) {\n",
    "                    var temp1 = (2*n-1)*x*Pnm_minus1[m];\n",
    "                    var temp2 = (n+m-1)*Pnm_minus2[m];\n",
    "                    Pnm[m] = (temp1-temp2)/(n-m); // P_l = ( (2l-1)xP_(l-1) - (l+m-1)P_(l-2) )/(l-m)\n",
    "                }\n",
    "        }\n",
    "        return Pnm;\n",
    "    }\n",
    "\n",
    "    // computeRealSH computes real spherical harmonics up to order N\n",
    "    var computeRealSH = function (N, azi, elev) {\n",
    "\n",
    "        var factorials = new Array(2*N+1);\n",
    "        // precompute factorials\n",
    "        for (var i = 0; i < 2*N+1; i++) factorials[i] = factorial(i);\n",
    "        var Ndirs = azi.length;\n",
    "        var Nsh = (N+1)*(N+1);\n",
    "        var leg_n_minus1 = 0;\n",
    "        var leg_n_minus2 = 0;\n",
    "        var leg_n;\n",
    "        var sinel = Math.sin(elev);\n",
    "        var index_n = 0;\n",
    "        var Y_N = new Array(Nsh);\n",
    "        var Nn0, Nnm;\n",
    "        var cosmazi, sinmazi;\n",
    "\n",
    "\n",
    "        for (var n = 0; n<N+1; n++) {\n",
    "            if (n==0) {\n",
    "                var temp0 = new Array(azi.length);\n",
    "                temp0.fill(1);\n",
    "                Y_N[n] = temp0;\n",
    "                index_n = 1;\n",
    "            }\n",
    "            else {\n",
    "                leg_n = recurseLegendrePoly(n, sinel, leg_n_minus1, leg_n_minus2);\n",
    "                Nn0 = Math.sqrt(2*n+1);\n",
    "                for (var m = 0; m<n+1; m++) {\n",
    "                    if (m==0) Y_N[index_n+n] = Nn0*leg_n[m];\n",
    "                    else {\n",
    "                        Nnm = Nn0*Math.sqrt( 2 * factorials[n-m]/factorials[n+m] );\n",
    "                        cosmazi = Math.cos(m*azi);\n",
    "                        sinmazi = Math.sin(m*azi);\n",
    "                        Y_N[index_n+n-m] = Nnm * leg_n[m] * sinmazi;\n",
    "                        Y_N[index_n+n+m] = Nnm * leg_n[m] * cosmazi;\n",
    "                    }\n",
    "                }\n",
    "                index_n = index_n+2*n+1;\n",
    "            }\n",
    "            leg_n_minus2 = leg_n_minus1;\n",
    "            leg_n_minus1 = leg_n;\n",
    "        }\n",
    "\n",
    "        return Y_N;\n",
    "    }\n",
    "\n",
    "    // scale u and v to the ranges I want: [0, 2*pi]\n",
    "    var u = 1*Math.PI*origu;\n",
    "    var v = 2*Math.PI*origv;\n",
    "    \n",
    "    var x = Math.sin(u)*Math.cos(v);\n",
    "    var y = Math.sin(u)*Math.sin(v);\n",
    "    var z = Math.cos(u);\n",
    "\n",
    "    var Y = Math.abs(computeRealSH(1,u,v)[0]);\n",
    "        \n",
    "    return new THREE.Vector3(Y*x,Y*y,Y*z)\n",
    "}\n",
    "\"\"\"\n",
    "#n>0\n",
    "#0<=l<=n-1\n",
    "#-l<=m<=l"
   ]
  },
  {
   "cell_type": "code",
   "execution_count": 237,
   "metadata": {
    "collapsed": true,
    "hidden": true
   },
   "outputs": [],
   "source": [
    "f3 = \"\"\"\n",
    "function f(origu,origv) {\n",
    "    // factorial compute factorial\n",
    "    var factorial = function (n) {\n",
    "        if (n === 0) return 1;\n",
    "        return n * factorial(n - 1);\n",
    "    }\n",
    "\n",
    "    // recurseLegendrePoly computes associated Legendre functions recursively\n",
    "    var recurseLegendrePoly = function (n, x, Pnm_minus1, Pnm_minus2) {\n",
    "\n",
    "        var Pnm = new Array(n+1);\n",
    "        switch(n) {\n",
    "            case 1:\n",
    "                var x2 = x*x;\n",
    "                var P10 = x;\n",
    "                var P11 = Math.sqrt(1-x2);\n",
    "                Pnm[0] = P10;\n",
    "                Pnm[1] = P11;\n",
    "                break;\n",
    "            case 2:\n",
    "                var x2 = x*x;\n",
    "                var P20 = 3*x2;\n",
    "                P20 = P20-1;\n",
    "                P20 = P20/2;\n",
    "                var P21 = 1-x2;\n",
    "                P21 = Math.sqrt(P21);\n",
    "                P21 = 3*P21;\n",
    "                P21 = P21*x;\n",
    "                var P22 = 1-x2;\n",
    "                P22 = 3*P22;\n",
    "                Pnm[0] = P20;\n",
    "                Pnm[1] = P21;\n",
    "                Pnm[2] = P22;\n",
    "                break;\n",
    "            default:\n",
    "                var x2 = x*x;\n",
    "                var one_min_x2 = 1-x2;\n",
    "                // last term m=n\n",
    "                var k = 2*n-1;\n",
    "                var dfact_k = 1;\n",
    "                if ((k % 2) == 0) {\n",
    "                    for (var kk=1; kk<k/2+1; kk++) dfact_k = dfact_k*2*kk;\n",
    "                }\n",
    "                else {\n",
    "                    for (var kk=1; kk<(k+1)/2+1; kk++) dfact_k = dfact_k*(2*kk-1);\n",
    "                }\n",
    "                Pnm[n] = dfact_k * Math.pow(one_min_x2, n/2);\n",
    "                // before last term\n",
    "                Pnm[n-1] = (2*n-1)*x*Pnm_minus1[n-1]; // P_{n(n-1)} = (2*n-1)*x*P_{(n-1)(n-1)}\n",
    "                // three term recursence for the rest\n",
    "                for (var m=0; m<n-1; m++) {\n",
    "                    var temp1 = (2*n-1)*x*Pnm_minus1[m];\n",
    "                    var temp2 = (n+m-1)*Pnm_minus2[m];\n",
    "                    Pnm[m] = (temp1-temp2)/(n-m); // P_l = ( (2l-1)xP_(l-1) - (l+m-1)P_(l-2) )/(l-m)\n",
    "                }\n",
    "        }\n",
    "        return Pnm;\n",
    "    }\n",
    "\n",
    "    // computeRealSH computes real spherical harmonics up to order N\n",
    "    var computeRealSH = function (N, azi, elev) {\n",
    "\n",
    "        var factorials = new Array(2*N+1);\n",
    "        // precompute factorials\n",
    "        for (var i = 0; i < 2*N+1; i++) factorials[i] = factorial(i);\n",
    "        var Ndirs = azi.length;\n",
    "        var Nsh = (N+1)*(N+1);\n",
    "        var leg_n_minus1 = 0;\n",
    "        var leg_n_minus2 = 0;\n",
    "        var leg_n;\n",
    "        var sinel = Math.sin(elev);\n",
    "        var index_n = 0;\n",
    "        var Y_N = new Array(Nsh);\n",
    "        var Nn0, Nnm;\n",
    "        var cosmazi, sinmazi;\n",
    "\n",
    "\n",
    "        for (var n = 0; n<N+1; n++) {\n",
    "            if (n==0) {\n",
    "                var temp0 = new Array(azi.length);\n",
    "                temp0.fill(1);\n",
    "                Y_N[n] = temp0;\n",
    "                index_n = 1;\n",
    "            }\n",
    "            else {\n",
    "                leg_n = recurseLegendrePoly(n, sinel, leg_n_minus1, leg_n_minus2);\n",
    "                Nn0 = Math.sqrt(2*n+1);\n",
    "                for (var m = 0; m<n+1; m++) {\n",
    "                    if (m==0) Y_N[index_n+n] = Nn0*leg_n[m];\n",
    "                    else {\n",
    "                        Nnm = Nn0*Math.sqrt( 2 * factorials[n-m]/factorials[n+m] );\n",
    "                        cosmazi = Math.cos(m*azi);\n",
    "                        sinmazi = Math.sin(m*azi);\n",
    "                        Y_N[index_n+n-m] = Nnm * leg_n[m] * sinmazi;\n",
    "                        Y_N[index_n+n+m] = Nnm * leg_n[m] * cosmazi;\n",
    "                    }\n",
    "                }\n",
    "                index_n = index_n+2*n+1;\n",
    "            }\n",
    "            leg_n_minus2 = leg_n_minus1;\n",
    "            leg_n_minus1 = leg_n;\n",
    "        }\n",
    "\n",
    "        return Y_N;\n",
    "    }\n",
    "\n",
    "    // scale u and v to the ranges I want: [0, 2*pi]\n",
    "    var u = 1*Math.PI*origu;\n",
    "    var v = 2*Math.PI*origv;\n",
    "    \n",
    "    var x = Math.sin(u)*Math.cos(v);\n",
    "    var y = Math.sin(u)*Math.sin(v);\n",
    "    var z = Math.cos(u);\n",
    "\n",
    "    var Y = Math.abs(computeRealSH(1,u,v)[3]);\n",
    "        \n",
    "    return new THREE.Vector3(Y*x,Y*y,Y*z)\n",
    "}\n",
    "\"\"\"\n",
    "#n>0\n",
    "#0<=l<=n-1\n",
    "#-l<=m<=l"
   ]
  },
  {
   "cell_type": "code",
   "execution_count": 238,
   "metadata": {
    "hidden": true
   },
   "outputs": [
    {
     "data": {
      "application/vnd.jupyter.widget-view+json": {
       "model_id": "78775db144ff41edb11c0ce5d4c73a11"
      }
     },
     "metadata": {},
     "output_type": "display_data"
    }
   ],
   "source": [
    "surf_g = tjs.ParametricGeometry(func=f3);\n",
    "\n",
    "surf = tjs.Mesh(geometry=surf_g, material=tjs.LambertMaterial(color='green', side='FrontSide'))\n",
    "#surf2 = tjs.Mesh(geometry=surf_g, material=tjs.LambertMaterial(color='yellow', side='BackSide'))\n",
    "scene = tjs.Scene(children=[surf, tjs.AmbientLight(color='#777777')])\n",
    "c = tjs.PerspectiveCamera(position=[5, 5, 3], up=[0, 0, 1],\n",
    "                      children=[tjs.DirectionalLight(color='white',\n",
    "                                                 position=[3, 5, 1],\n",
    "                                                 intensity=0.6)])\n",
    "renderer = tjs.Renderer(camera=c, scene=scene, controls=[tjs.OrbitControls(controlling=c)])\n",
    "renderer"
   ]
  },
  {
   "cell_type": "code",
   "execution_count": 246,
   "metadata": {
    "collapsed": true,
    "hidden": true
   },
   "outputs": [],
   "source": [
    "renderer.close()"
   ]
  },
  {
   "cell_type": "markdown",
   "metadata": {
    "heading_collapsed": true
   },
   "source": [
    "# Finding plane given normal and position"
   ]
  },
  {
   "cell_type": "code",
   "execution_count": 51,
   "metadata": {
    "hidden": true
   },
   "outputs": [
    {
     "name": "stdout",
     "output_type": "stream",
     "text": [
      "1x + 0y + 2z - 0 = 0\n"
     ]
    }
   ],
   "source": [
    "normal = np.array([1,0,2])\n",
    "#position = np.array([0,0,2])\n",
    "position = [0,0,0]\n",
    "\n",
    "x0,y0,z0 = position\n",
    "a,b,c = normal\n",
    "d = np.dot(normal,position)\n",
    "\n",
    "print('{0}x + {1}y + {2}z - {3} = 0'.format(a,b,c,d))\n",
    "\n",
    "if c==0:\n",
    "    if b==0:\n",
    "        y1,z1 = y0+1, z0+1\n",
    "        x1 = d/float(a)\n",
    "    else:\n",
    "        x1,z1 = x0+1, z0+1\n",
    "        y1 = (d - a*x1 - c*z1)/float(b)\n",
    "else:\n",
    "    x1,y1 = x0+1, y0+1\n",
    "    z1 = (d - a*x1 - b*y1)/float(c)\n",
    "point_on_plane = np.array((x1,y1,z1))\n",
    "#v = np.cross(normal/np.linalg.norm(normal),u/np.linalg.norm(u))+position\n",
    "#u,v"
   ]
  },
  {
   "cell_type": "code",
   "execution_count": 62,
   "metadata": {
    "hidden": true
   },
   "outputs": [
    {
     "data": {
      "text/plain": [
       "(array([ 1.66666667,  1.66666667,  0.66666667]),\n",
       " array([ 0.40371521,  1.74535599,  1.2981424 ]),\n",
       " array([ 0.33333333,  0.33333333,  1.33333333]),\n",
       " array([ 1.59628479,  0.25464401,  0.7018576 ]))"
      ]
     },
     "execution_count": 62,
     "metadata": {},
     "output_type": "execute_result"
    }
   ],
   "source": [
    "width = 2\n",
    "position = np.array([1,1,1])\n",
    "\n",
    "normal = np.array([1,0,2])\n",
    "a,b,c = normal\n",
    "\n",
    "if c==0:\n",
    "    if b==0:\n",
    "        x1,y1,z1 = 0, 1, 1\n",
    "    else:\n",
    "        x1,z1 = 1, 1\n",
    "        y1 = (- a*x1 - c*z1)/float(b)\n",
    "else:\n",
    "    x1,y1 = 1, 1\n",
    "    z1 = (- a*x1 - b*y1)/float(c)\n",
    "p1 = np.array((x1,y1,z1))/np.linalg.norm((x1,y1,z1))\n",
    "p2 = np.cross(normal/np.linalg.norm(normal),p1/np.linalg.norm(p1))\n",
    "\n",
    "v1 = p1*.5*width + position\n",
    "v2 = p2*.5*width + position\n",
    "v3 = -p1*.5*width + position\n",
    "v4 = -p2*.5*width + position\n",
    "\n",
    "v1,v2,v3,v4"
   ]
  },
  {
   "cell_type": "code",
   "execution_count": 3,
   "metadata": {
    "hidden": true
   },
   "outputs": [
    {
     "data": {
      "application/vnd.jupyter.widget-view+json": {
       "model_id": "1e08698714b647d292c42fd58ed3c01d"
      }
     },
     "metadata": {},
     "output_type": "display_data"
    }
   ],
   "source": [
    "from pythreejs import *\n",
    "import numpy as np\n",
    "from IPython.display import display\n",
    "\n",
    "vertices = np.asarray([\n",
    "[0, 0, 0], #0 o\n",
    "[0, 0, 1], #1 z\n",
    "[0, 1, 0], #2 y\n",
    "[0, 1, 1], #3 yz\n",
    "[1, 0, 0], #4 x\n",
    "[1, 0, 1], #5 xz\n",
    "[1, 1, 0], #6 xy\n",
    "[1, 1, 1]  #7 xyz\n",
    "], dtype='float32')\n",
    "facen = [[0,1,3,2],[0,4,6,2],[0,1,5,4],[6,7,3,2],[6,7,5,4],[7,5,1,3]]\n",
    "faces = np.asarray([\n",
    "        [0, 1, 3], #0\n",
    "        [0, 2, 3], #1\n",
    "        [0, 2, 4], #2\n",
    "        [2, 4, 6], #3\n",
    "        [0, 1, 4], #4\n",
    "        [1, 4, 5], #5\n",
    "        [2, 3, 6], #6\n",
    "        [3, 6, 7], #7\n",
    "        [1, 3, 5], #8\n",
    "        [3, 5, 7], #9\n",
    "        [4, 5, 6], #\n",
    "        [5, 6, 7]  #\n",
    "    ])\n",
    "\n",
    "vertexcolors = np.asarray([(0,0,0), (0,0,1), (0,1,0), (1,0,0), (0,1,1), (1,0,1), (1,1,0), (1,1,1)])\n",
    "facecolors = [[vertexcolors[i] for i in f] for f in faces]\n",
    "cube = PlainGeometry(vertices=vertices.tolist(), \n",
    "                             faces=faces.tolist(), \n",
    "                             colors = ['green']*8)\n",
    "face = FaceGeometry(vertices=[0, 0, 0,  \n",
    "                              0, 0, 1,\n",
    "                              0, 1, 1,\n",
    "                              0, 1, 0,\n",
    "                              ], facen=[[0,1,2,3]])\n",
    "face2 = FaceGeometry(vertices=vertices.flatten().tolist(),\n",
    "                    facen = [[2,3,1,0],[0,4,6,2],[0,1,5,4],\n",
    "                             [6,7,3,2],[6,7,5,4],[7,5,1,3]])\n",
    "planegeometry = PlaneGeometry()\n",
    "box = BoxGeometry()\n",
    "material=LambertMaterial(wireframe=False,color='red',\n",
    "                        vertexColors = 'FaceColors')\n",
    "#['NoColors', 'FaceColors', 'VertexColors']\n",
    "myobjectCube = Mesh(geometry=face2, \n",
    "                    material=material)\n",
    "cCube = PerspectiveCamera(position=[3, 3, 3], fov=20,\n",
    "                      children=[DirectionalLight(color='white', position=[3, 5, 1], intensity=0.5)])\n",
    "sceneCube = Scene(children=[myobjectCube, AmbientLight(color='#777777')])\n",
    "\n",
    "rendererCube = Renderer(camera=cCube, background='gray', background_opacity=1,\n",
    "                        scene = sceneCube, controls=[OrbitControls(controlling=cCube)])\n",
    "\n",
    "display(rendererCube)"
   ]
  },
  {
   "cell_type": "code",
   "execution_count": 248,
   "metadata": {
    "hidden": true
   },
   "outputs": [],
   "source": [
    "rendererCube.close()"
   ]
  },
  {
   "cell_type": "markdown",
   "metadata": {
    "heading_collapsed": true
   },
   "source": [
    "# Picker"
   ]
  },
  {
   "cell_type": "code",
   "execution_count": 285,
   "metadata": {
    "hidden": true
   },
   "outputs": [
    {
     "data": {
      "application/vnd.jupyter.widget-view+json": {
       "model_id": "545e8f9b6bde4be3a9d888c183c961d8"
      }
     },
     "metadata": {},
     "output_type": "display_data"
    },
    {
     "data": {
      "application/vnd.jupyter.widget-view+json": {
       "model_id": "259af35c3c7445e4916092ce498a8c70"
      }
     },
     "metadata": {},
     "output_type": "display_data"
    },
    {
     "data": {
      "application/vnd.jupyter.widget-view+json": {
       "model_id": "55effa83d3cf48e8b7f7e011f4389a5a"
      }
     },
     "metadata": {},
     "output_type": "display_data"
    },
    {
     "name": "stdout",
     "output_type": "stream",
     "text": [
      "Clicked on [0.4694865578413562, 0.38821492152321113, 0.06843926249072041]\n"
     ]
    }
   ],
   "source": [
    "nx, ny = (20, 20)\n",
    "xmax=1\n",
    "x = np.linspace(-xmax, xmax, nx)\n",
    "y = np.linspace(-xmax, xmax, ny)\n",
    "xx, yy = np.meshgrid(x, y)\n",
    "z = xx ** 2 - yy ** 2\n",
    "#z[6,1] = float('nan')\n",
    "surf_g = SurfaceGeometry(z=list(z[::-1].flat), \n",
    "                         width=2 * xmax,\n",
    "                         height=2 * xmax,\n",
    "                         width_segments=nx - 1,\n",
    "                         height_segments=ny - 1)\n",
    "\n",
    "surf = Mesh(geometry=surf_g, material=LambertMaterial(map=height_texture(z[::-1], 'YlGnBu_r')))\n",
    "surfgrid = SurfaceGrid(geometry=surf_g, material=LineBasicMaterial(color='black'))\n",
    "hover_point = Mesh(geometry=SphereGeometry(radius=0.05), material=LambertMaterial(color='hotpink'))\n",
    "scene = Scene(children=[surf, surfgrid, hover_point, AmbientLight(color='#777777')])\n",
    "c = PerspectiveCamera(position=[0, 3, 3], up=[0, 0, 1], \n",
    "                      children=[DirectionalLight(color='white', position=[3, 5, 1], intensity=0.6)])\n",
    "click_picker = Picker(root=surf, event='dblclick')\n",
    "other_click = Picker(event='click')\n",
    "hover_picker = Picker(root=surf, event='mousemove')\n",
    "renderer = Renderer(camera=c, scene = scene, controls=[OrbitControls(controlling=c), \n",
    "                                                       click_picker, hover_picker,other_click])\n",
    "\n",
    "def f(change):\n",
    "    value = change['new']\n",
    "    print('Clicked on %s' % value)\n",
    "    point = Mesh(geometry=SphereGeometry(radius=0.05), \n",
    "                 material=LambertMaterial(color='red'),\n",
    "                 position=value)\n",
    "    scene.children = list(scene.children) + [point]\n",
    "\n",
    "click_picker.observe(f, names=['point'])\n",
    "\n",
    "trait.link((hover_point, 'position'), (hover_picker, 'point'))\n",
    "\n",
    "h = widget.HTML()\n",
    "def g(change):\n",
    "    h.value = 'Green point at ({1:.3f}, {2:.3f}, {3:.3f})<br>distance={0:.3f}'.format(\n",
    "                        hover_picker.distance,*change['new'])\n",
    "g({'new': hover_point.position})\n",
    "hover_picker.observe(g, names=['point'])\n",
    "\n",
    "h2 = widget.HTML()\n",
    "def g2(change):\n",
    "    h2.value = '{}'.format(other_click.object)\n",
    "other_click.observe(g2, names=['point'])\n",
    "\n",
    "display(h2)\n",
    "display(h)\n",
    "display(renderer)"
   ]
  },
  {
   "cell_type": "code",
   "execution_count": 360,
   "metadata": {
    "hidden": true
   },
   "outputs": [
    {
     "data": {
      "application/vnd.jupyter.widget-view+json": {
       "model_id": "c35d6bbfb3874e259bf1895dd8be0b94"
      }
     },
     "metadata": {},
     "output_type": "display_data"
    },
    {
     "data": {
      "application/vnd.jupyter.widget-view+json": {
       "model_id": "5dafa2881cee4d77b48da25b777e7949"
      }
     },
     "metadata": {},
     "output_type": "display_data"
    }
   ],
   "source": [
    "# https://threejs.org/examples/webgl_interactive_draggablecubes.html\n",
    "\n",
    "from pythreejs import *\n",
    "import ipywidgets as widget\n",
    "from IPython.display import display\n",
    "\n",
    "perspective = False\n",
    "container = Mesh(geometry=Geometry(), \n",
    "               material=BasicMaterial(),\n",
    "               position=[0, 0, 0])\n",
    "\n",
    "ball1 = Mesh(geometry=SphereGeometry(radius=1), \n",
    "                                    material=LambertMaterial(color='red'),\n",
    "                                    position=[-.5, 0, 1])\n",
    "ball2 = Mesh(geometry=SphereGeometry(radius=1), \n",
    "                                    material=LambertMaterial(color='blue'),\n",
    "                                    position=[.5, 0, 0])\n",
    "container.children=[ball1,ball2]\n",
    "\n",
    "scene = Scene(children=[container, AmbientLight(color='#777777')])\n",
    "\n",
    "if perspective:\n",
    "    c = PerspectiveCamera(position=[0, 0, 10], up=[0, 0, 1],aspect=1.0)\n",
    "else:\n",
    "    c = OrthographicCamera(position=[0, 0, 10], up=[0, 0, 1],\n",
    "                          left=-2,right=2,top=2,bottom=-2,near=.1,far=1000)\n",
    "    \n",
    "c.children=[DirectionalLight(color='white',\n",
    "                position=[3, 5, 1],intensity=0.5)]\n",
    "renderer = Renderer(camera=c, width='300',height='300',\n",
    "                    scene=scene, \n",
    "                    controls=[OrbitControls(controlling=c)])\n",
    "\n",
    "click_picker = Picker(root=scene.children[0], event='mousemove')\n",
    "infobox = widget.HTML()\n",
    "def change_info(change):\n",
    "    infobox.value = 'Color: {}'.format(click_picker.object.material.color)\n",
    "click_picker.observe(change_info, names=['object'])\n",
    "\n",
    "renderer.controls = renderer.controls + [click_picker]\n",
    "\n",
    "display(infobox)\n",
    "display(renderer)"
   ]
  },
  {
   "cell_type": "markdown",
   "metadata": {
    "hidden": true
   },
   "source": []
  }
 ],
 "metadata": {
  "hide_input": false,
  "kernelspec": {
   "display_name": "Python 2",
   "language": "python",
   "name": "python2"
  },
  "language_info": {
   "codemirror_mode": {
    "name": "ipython",
    "version": 2
   },
   "file_extension": ".py",
   "mimetype": "text/x-python",
   "name": "python",
   "nbconvert_exporter": "python",
   "pygments_lexer": "ipython2",
   "version": "2.7.13"
  },
  "toc": {
   "navigate_menu": true,
   "number_sections": true,
   "sideBar": true,
   "threshold": 4,
   "toc_cell": false,
   "toc_section_display": "block",
   "toc_window_display": true
  }
 },
 "nbformat": 4,
 "nbformat_minor": 2
}
