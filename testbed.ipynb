{
 "cells": [
  {
   "cell_type": "code",
   "execution_count": 1,
   "metadata": {
    "init_cell": true
   },
   "outputs": [
    {
     "name": "stdout",
     "output_type": "stream",
     "text": [
      "0.0.3\n",
      "0.1.3.3\n"
     ]
    }
   ],
   "source": [
    "import pandas3js as pjs\n",
    "print(pjs.__version__)\n",
    "import jsonextended as ejson\n",
    "print(ejson.__version__)\n",
    "import pandas as pd\n",
    "import numpy as np\n",
    "import pythreejs as tjs"
   ]
  },
  {
   "cell_type": "code",
   "execution_count": 2,
   "metadata": {},
   "outputs": [
    {
     "name": "stdout",
     "output_type": "stream",
     "text": [
      "dir1: \n",
      "  dir1_1: \n",
      "    file1_1: {...}\n",
      "  file1: \n",
      "    initial: {...}\n",
      "    meta: {...}\n",
      "    optimised: {...}\n",
      "    units: {...}\n",
      "  file2: \n",
      "    initial: {...}\n",
      "    meta: {...}\n",
      "    optimisation: {...}\n",
      "    optimised: {...}\n",
      "    units: {...}\n",
      "dir2: \n",
      "  file1: \n",
      "    initial: {...}\n",
      "    meta: {...}\n",
      "    optimisation: {...}\n",
      "    optimised: {...}\n",
      "    units: {...}\n",
      "dir3: \n"
     ]
    }
   ],
   "source": [
    "data = ejson.json_to_dict(ejson.get_test_path())\n",
    "ejson.dict_pprint(data, depth=3)"
   ]
  },
  {
   "cell_type": "code",
   "execution_count": 3,
   "metadata": {},
   "outputs": [
    {
     "data": {
      "text/plain": [
       "count       89.000000\n",
       "mean    -24062.286741\n",
       "std          0.012361\n",
       "min     -24062.293964\n",
       "25%     -24062.293727\n",
       "50%     -24062.293491\n",
       "75%     -24062.278072\n",
       "max     -24062.207939\n",
       "dtype: float64"
      ]
     },
     "execution_count": 3,
     "metadata": {},
     "output_type": "execute_result"
    }
   ],
   "source": [
    "data = ejson.dict_remove_paths(data, ['units'])\n",
    "energies = ejson.dict_filter_keys(data, ['energy'])\n",
    "pd.Series(ejson.dict_flatten(energies)).describe()"
   ]
  },
  {
   "cell_type": "code",
   "execution_count": 4,
   "metadata": {},
   "outputs": [
    {
     "data": {
      "text/plain": [
       "count    8.900000e+01\n",
       "mean    -9.214157e-19\n",
       "std      4.733481e-25\n",
       "min     -9.214159e-19\n",
       "25%     -9.214159e-19\n",
       "50%     -9.214159e-19\n",
       "75%     -9.214153e-19\n",
       "max     -9.214126e-19\n",
       "dtype: float64"
      ]
     },
     "execution_count": 4,
     "metadata": {},
     "output_type": "execute_result"
    }
   ],
   "source": [
    "energies = ejson.units.apply_unitschema(energies, {'energy':'eV'})\n",
    "energies = ejson.units.apply_unitschema(energies, {'energy':'kcal'},as_quantity=False)\n",
    "pd.Series(ejson.dict_flatten(energies)).describe()"
   ]
  },
  {
   "cell_type": "code",
   "execution_count": 5,
   "metadata": {},
   "outputs": [
    {
     "name": "stdout",
     "output_type": "stream",
     "text": [
      "['2', '3', '4', '5', '6', '7', '8', '9', '10', '11', '12', '13', '14', '15', '16', '17', '18', '19', '20', '21', '22', '23', '24', '25', '26', '27', '28', '29', '30', '31', '32', '33', '34', '35', '36', '37', '38', '39', '40', '41', '42', '43', '44', '45', '46', '47', '48', '49', '50', '51', '52', '53', '54', '55', '56', '57', '58', '59', '60', '61', '62', '63', '64', '65', '66', '67', '68', '69', '70', '71', '72', '73', '74', '75', '76', '77', '78', '79', '80', '81', '82', '83', '84', '85', '86', '87', '88', '89', '90']\n"
     ]
    }
   ],
   "source": [
    "optimisation = ejson.dict_multiindex(data,['dir1','file2','optimisation','steps'])\n",
    "optsteps = sorted(optimisation.keys(), key=ejson.core._natural_keys)\n",
    "print(optsteps)"
   ]
  },
  {
   "cell_type": "code",
   "execution_count": 10,
   "metadata": {},
   "outputs": [
    {
     "name": "stdout",
     "output_type": "stream",
     "text": [
      "crystallographic: \n",
      "  geometry: \n",
      "    assym:         \n",
      "    atomic_number: \n",
      "    id:            \n",
      "    label:         \n",
      "    x/a:           \n",
      "    y/b:           \n",
      "    z/c:           \n",
      "  lattice_parameters: \n",
      "    a:     \n",
      "    alpha: \n",
      "    b:     \n",
      "    beta:  \n",
      "    c:     \n",
      "    gamma: \n",
      "  volume: \n",
      "energy: \n",
      "primitive: \n",
      "  density: \n",
      "  geometry: {...}\n",
      "  lattice_parameters: {...}\n",
      "  volume:  \n"
     ]
    }
   ],
   "source": [
    "ejson.dict_pprint(optimisation['2'],depth=None,no_values=True)"
   ]
  },
  {
   "cell_type": "code",
   "execution_count": 7,
   "metadata": {},
   "outputs": [
    {
     "data": {
      "text/html": [
       "<style>\n",
       "    .renderjson a              { text-decoration: none; }\n",
       "    .renderjson .disclosure    { color: red;\n",
       "                                 font-size: 125%; }\n",
       "    .renderjson .syntax        { color: darkgrey; }\n",
       "    .renderjson .string        { color: black; }\n",
       "    .renderjson .number        { color: black; }\n",
       "    .renderjson .boolean       { color: purple; }\n",
       "    .renderjson .key           { color: royalblue; }\n",
       "    .renderjson .keyword       { color: orange; }\n",
       "    .renderjson .object.syntax { color: lightseagreen; }\n",
       "    .renderjson .array.syntax  { color: lightseagreen; }\n",
       "    </style><div id=\"74376a25-7a04-43ce-852f-2cb02024edb0\" style=\"max-height: 600px; width:100%%;\"></div>\n",
       "                <script>\n",
       "            require([\"https://rawgit.com/caldwell/renderjson/master/renderjson.js\"], function() {\n",
       "                document.getElementById(\"74376a25-7a04-43ce-852f-2cb02024edb0\").appendChild(\n",
       "                    renderjson.set_max_string_length(20)\n",
       "                              //.set_icons(circled plus, circled minus)\n",
       "                              .set_icons(String.fromCharCode(8853), String.fromCharCode(8854))\n",
       "                              .set_sort_objects(true)\n",
       "                              .set_show_to_level(2)({\"crystallographic\": {\"geometry\": {\"assym\": [true, false, false, false, true, false, false, false, true, false, false, false, true, false, false, false, true, false, false, false, true, false, false, false, true, false, false, false, true, false], \"atomic_number\": [16, 16, 16, 16, 16, 16, 16, 16, 16, 16, 16, 16, 16, 16, 16, 16, 26, 26, 26, 26, 26, 26, 26, 26, 26, 26, 26, 26, 26, 26], \"id\": [1, 2, 3, 4, 5, 6, 7, 8, 9, 10, 11, 12, 13, 14, 15, 16, 17, 18, 19, 20, 21, 22, 23, 24, 25, 26, 27, 28, 29, 30], \"label\": [\"S\", \"S\", \"S\", \"S\", \"S\", \"S\", \"S\", \"S\", \"S\", \"S\", \"S\", \"S\", \"S\", \"S\", \"S\", \"S\", \"FE\", \"FE\", \"FE\", \"FE\", \"FE1\", \"FE1\", \"FE1\", \"FE1\", \"FE\", \"FE\", \"FE\", \"FE\", \"FE1\", \"FE1\"], \"x/a\": [-0.09616823805925, 0.09616823805925, 0.09616823805925, -0.09616823805925, -0.1508611685218, -0.3491388314782, 0.1508611685218, 0.3491388314782, 0.1460322841138, -0.1460322841138, -0.1460322841138, 0.1460322841138, -0.3995722030227, -0.1004277969773, 0.3995722030227, 0.1004277969773, 0.1264939674055, -0.1264939674055, -0.1264939674055, 0.1264939674055, -0.2558689756026, -0.2441310243974, 0.2558689756026, 0.2441310243974, 0.3608336370564, 0.1391663629436, -0.3608336370564, -0.1391663629436, 2.775557561563e-17, -2.775557561563e-17], \"y/b\": [-0.1248441927739, -0.1248441927739, 0.1248441927739, 0.1248441927739, 0.3752972932967, -0.1247027067033, -0.3752972932967, 0.1247027067033, 0.1263035893231, 0.1263035893231, -0.1263035893231, -0.1263035893231, 0.1301299242341, -0.3698700757659, -0.1301299242341, 0.3698700757659, -0.1032031289162, -0.1032031289162, 0.1032031289162, 0.1032031289162, -0.1191142911879, 0.3808857088121, 0.1191142911879, -0.3808857088121, 0.1445739971451, -0.3554260028549, -0.1445739971451, 0.3554260028549, -0.3780752252193, 0.3780752252193], \"z/c\": [0.3837117211236, 0.1162882788764, -0.3837117211236, -0.1162882788764, -0.3854685452868, -0.1145314547132, 0.3854685452868, 0.1145314547132, 0.3611870389789, 0.1388129610211, -0.3611870389789, -0.1388129610211, -0.3801666252413, -0.1198333747587, 0.3801666252413, 0.1198333747587, 0.4901707655849, 0.009829234415058, -0.4901707655849, -0.009829234415058, -0.2468772542166, -0.2531227457834, 0.2468772542166, 0.2531227457834, -0.4948465880177, -0.005153411982256, 0.4948465880177, 0.005153411982255, -0.25, 0.25]}, \"lattice_parameters\": {\"a\": 12.03000533, \"alpha\": 90.0, \"b\": 6.94819922, \"beta\": 118.309917, \"c\": 13.03848494, \"gamma\": 90.0}, \"volume\": 959.49545054}, \"energy\": -24062.207938715, \"primitive\": {\"density\": 4.481, \"geometry\": {\"assym\": [true, false, false, false, true, false, false, false, true, false, false, false, true, false, false, false, true, false, false, false, true, false, false, false, true, false, false, false, true, false], \"atomic_number\": [16, 16, 16, 16, 16, 16, 16, 16, 16, 16, 16, 16, 16, 16, 16, 16, 26, 26, 26, 26, 26, 26, 26, 26, 26, 26, 26, 26, 26, 26], \"id\": [1, 2, 3, 4, 5, 6, 7, 8, 9, 10, 11, 12, 13, 14, 15, 16, 17, 18, 19, 20, 21, 22, 23, 24, 25, 26, 27, 28, 29, 30], \"label\": [\"S\", \"S\", \"S\", \"S\", \"S\", \"S\", \"S\", \"S\", \"S\", \"S\", \"S\", \"S\", \"S\", \"S\", \"S\", \"S\", \"FE\", \"FE\", \"FE\", \"FE\", \"FE1\", \"FE1\", \"FE1\", \"FE1\", \"FE\", \"FE\", \"FE\", \"FE\", \"FE1\", \"FE1\"], \"x/a\": [-0.2210124308332, -0.0286759547147, 0.2210124308332, 0.0286759547147, 0.2244361247749, -0.4738415381816, -0.2244361247749, 0.4738415381816, 0.2723358734368, -0.01972869479072, -0.2723358734368, 0.01972869479072, -0.2694422787886, -0.4702978727433, 0.2694422787886, 0.4702978727433, 0.02329083848925, -0.2296970963217, -0.02329083848925, 0.2296970963217, -0.3749832667905, 0.1367546844147, 0.3749832667905, -0.1367546844147, -0.4945923657986, -0.2162596399113, 0.4945923657986, 0.2162596399113, -0.3780752252193, 0.3780752252193], \"y/b\": [-0.0286759547147, -0.2210124308332, 0.0286759547147, 0.2210124308332, -0.4738415381816, 0.2244361247749, 0.4738415381816, -0.2244361247749, -0.01972869479072, 0.2723358734368, 0.01972869479072, -0.2723358734368, -0.4702978727433, -0.2694422787886, 0.4702978727433, 0.2694422787886, -0.2296970963217, 0.02329083848925, 0.2296970963217, -0.02329083848925, 0.1367546844147, -0.3749832667905, -0.1367546844147, 0.3749832667905, -0.2162596399113, -0.4945923657986, 0.2162596399113, 0.4945923657986, -0.3780752252193, 0.3780752252193], \"z/c\": [0.3837117211236, 0.1162882788764, -0.3837117211236, -0.1162882788764, -0.3854685452868, -0.1145314547132, 0.3854685452868, 0.1145314547132, 0.3611870389789, 0.1388129610211, -0.3611870389789, -0.1388129610211, -0.3801666252413, -0.1198333747587, 0.3801666252413, 0.1198333747587, 0.4901707655849, 0.009829234415058, -0.4901707655849, -0.009829234415058, -0.2468772542166, -0.2531227457834, 0.2468772542166, 0.2531227457834, -0.4948465880177, -0.005153411982256, 0.4948465880177, 0.005153411982255, -0.25, 0.25]}, \"lattice_parameters\": {\"a\": 6.94619501, \"alpha\": 65.753391, \"b\": 6.94619501, \"beta\": 114.246609, \"c\": 13.03848494, \"gamma\": 119.98091}, \"volume\": 479.747725}}))\n",
       "            });</script>"
      ],
      "text/plain": [
       "<jsonextended.core.dict_to_html at 0x116adbac8>"
      ]
     },
     "execution_count": 7,
     "metadata": {},
     "output_type": "execute_result"
    }
   ],
   "source": [
    "ejson.dict_to_html(optimisation['2'])"
   ]
  },
  {
   "cell_type": "code",
   "execution_count": 2,
   "metadata": {
    "collapsed": true
   },
   "outputs": [],
   "source": [
    "import ipywidgets as widgets\n",
    "\n",
    "#TODO dynamic view size\n",
    "\n",
    "def create_config_gui(data, change_func, \n",
    "                      add_objects=True, add_labels=True,\n",
    "                      view=(10,-10,-10,10),near=-10):\n",
    "    \"\"\" a simple gui to handle configuration changes\n",
    "    \"\"\"\n",
    "    controls = []\n",
    "    \n",
    "    # sort number strings correctly\n",
    "    dkeys = sorted(data.keys(), key=pjs.utils.natural_keys)\n",
    "\n",
    "    gcollect = pjs.GeometricCollection()\n",
    "    scene = pjs.create_js_scene_view(gcollect,\n",
    "                    add_objects=add_objects,add_labels=add_labels)\n",
    "    camera, renderer = pjs.create_jsrenderer(scene,view=view,near=near)\n",
    "    select = widgets.SelectionSlider(description='Configuration:',\n",
    "                options=dkeys, continuous_update=False)\n",
    "    def handle_slider(change):\n",
    "        with renderer.hold_trait_notifications():\n",
    "            geometry = change_func(data[change.new])\n",
    "            gcollect.change_by_df(geometry,otype_column='otype',\n",
    "                        otype_default='pandas3js.Sphere')        \n",
    "    select.observe(handle_slider,names='value')\n",
    "    select.value = dkeys[-1]\n",
    "    controls.append(select)\n",
    "    \n",
    "    if add_labels:    \n",
    "        toggle=widgets.Checkbox(\n",
    "        value=False,\n",
    "        description='View Label:')\n",
    "        def handle_toggle(change):\n",
    "            for obj in gcollect.idobjects:\n",
    "                obj.label_visible = change.new\n",
    "        toggle.observe(handle_toggle,names='value')\n",
    "        controls.append(toggle)\n",
    "    \n",
    "    return widgets.VBox([widgets.HBox(controls),renderer])\n"
   ]
  },
  {
   "cell_type": "code",
   "execution_count": null,
   "metadata": {
    "collapsed": true
   },
   "outputs": [],
   "source": []
  },
  {
   "cell_type": "code",
   "execution_count": 5,
   "metadata": {},
   "outputs": [
    {
     "data": {
      "text/plain": [
       "array([ 1.        ,  0.5       ,  0.33333333])"
      ]
     },
     "execution_count": 5,
     "metadata": {},
     "output_type": "execute_result"
    }
   ],
   "source": [
    "1/np.array([1,2,3])"
   ]
  },
  {
   "cell_type": "code",
   "execution_count": 9,
   "metadata": {},
   "outputs": [],
   "source": [
    "from scipy.spatial import cKDTree\n",
    "cKDTree.query_pairs\n",
    "\n",
    "def format_label(s):\n",
    "    s = ''.join([i for i in s if not i.isdigit()])\n",
    "    return s.lower().capitalize()\n",
    "\n",
    "def change_crystal_opt(data):\n",
    "    \n",
    "    geotype = 'primitive'#'crystallographic'\n",
    "\n",
    "    ldict = data[geotype]['lattice_parameters']\n",
    "    \n",
    "    gdict = data[geotype]['geometry']\n",
    "    df = pd.DataFrame(gdict)\n",
    "    \n",
    "    df['x'] = df['x/a']*ldict['a']\n",
    "    df['y'] = df['y/b']*ldict['b']\n",
    "    df['z'] = df['z/c']*ldict['c']\n",
    "    df.label = df.label.apply(format_label)\n",
    "    \n",
    "    atom_df = pjs.atom.atomic_data()\n",
    "    df['color'] = df['atomic_number'].map(lambda n: atom_df.loc[n].color)\n",
    "    df['label_color'] = df['color']\n",
    "    df['radius'] = df['atomic_number'].map(lambda n: atom_df.loc[n].RCov)\n",
    "    df['transparency'] = 1\n",
    "    \n",
    "    df = df[['id','x','y','z',\n",
    "             'label','label_color',\n",
    "             'color','radius']]\n",
    "    df['transparency'] = 1\n",
    "    df['otype'] = 'pandas3js.Sphere'\n",
    "    \n",
    "    # s coordination\n",
    "    r_array = df[df.label=='S'][['x','y','z']].values    \n",
    "    ck = cKDTree(r_array)\n",
    "    pairs = ck.query_pairs(4)\n",
    "    for i,j in pairs:\n",
    "        i,j\n",
    "        series = pd.Series({\n",
    "            'start':tuple(r_array[i]),'end':tuple(r_array[j]),\n",
    "            'color':atom_df.loc[16].color,'otype':'pandas3js.Line',\n",
    "            'id':df['id'].max()+1,'linewidth':3})\n",
    "        df = df.append(series,ignore_index=True,)\n",
    "\n",
    "    # lattice vectors\n",
    "    a_vec, b_vec, c_vec = pjs.atom.vectors_from_params(\n",
    "        *[ldict[s] for s in ('a','b','c','alpha','beta','gamma')])\n",
    "    \n",
    "    series = pd.Series({'a':tuple(a_vec),'b':tuple(b_vec),'c':tuple(c_vec),\n",
    "                       'otype':'pandas3js.WireBox','id':df['id'].max()+1,'color':'black'})\n",
    "    \n",
    "    df = df.append(series,ignore_index=True,)\n",
    "\n",
    "    return df"
   ]
  },
  {
   "cell_type": "code",
   "execution_count": 10,
   "metadata": {},
   "outputs": [
    {
     "data": {
      "application/vnd.jupyter.widget-view+json": {
       "model_id": "bf944be9db8d47e7bfcbbb0706a8ff84"
      }
     },
     "metadata": {},
     "output_type": "display_data"
    }
   ],
   "source": [
    "data = ejson.json_to_dict(ejson.get_test_path(),['dir1','file2','optimisation','steps'])\n",
    "create_config_gui(data, change_crystal_opt,add_labels=True,view=(15, -15, -15, 15),near=-15)"
   ]
  },
  {
   "cell_type": "code",
   "execution_count": 14,
   "metadata": {},
   "outputs": [
    {
     "data": {
      "text/html": [
       "<div>\n",
       "<style>\n",
       "    .dataframe thead tr:only-child th {\n",
       "        text-align: right;\n",
       "    }\n",
       "\n",
       "    .dataframe thead th {\n",
       "        text-align: left;\n",
       "    }\n",
       "\n",
       "    .dataframe tbody tr th {\n",
       "        vertical-align: top;\n",
       "    }\n",
       "</style>\n",
       "<table border=\"1\" class=\"dataframe\">\n",
       "  <thead>\n",
       "    <tr style=\"text-align: right;\">\n",
       "      <th></th>\n",
       "      <th>a</th>\n",
       "      <th>b</th>\n",
       "      <th>c</th>\n",
       "    </tr>\n",
       "  </thead>\n",
       "  <tbody>\n",
       "    <tr>\n",
       "      <th>0</th>\n",
       "      <td>1.0</td>\n",
       "      <td>3.0</td>\n",
       "      <td>NaN</td>\n",
       "    </tr>\n",
       "    <tr>\n",
       "      <th>1</th>\n",
       "      <td>2.0</td>\n",
       "      <td>4.0</td>\n",
       "      <td>NaN</td>\n",
       "    </tr>\n",
       "    <tr>\n",
       "      <th>2</th>\n",
       "      <td>NaN</td>\n",
       "      <td>NaN</td>\n",
       "      <td>5.0</td>\n",
       "    </tr>\n",
       "  </tbody>\n",
       "</table>\n",
       "</div>"
      ],
      "text/plain": [
       "     a    b    c\n",
       "0  1.0  3.0  NaN\n",
       "1  2.0  4.0  NaN\n",
       "2  NaN  NaN  5.0"
      ]
     },
     "execution_count": 14,
     "metadata": {},
     "output_type": "execute_result"
    }
   ],
   "source": [
    "df = pd.DataFrame({'a':[1,2], 'b':[3,4]})\n",
    "df\n",
    "s = pd.Series({'c':5})\n",
    "df = df.append(s,ignore_index=True,)\n",
    "df"
   ]
  },
  {
   "cell_type": "code",
   "execution_count": null,
   "metadata": {},
   "outputs": [
    {
     "name": "stdout",
     "output_type": "stream",
     "text": [
      "> \u001b[0;32m/Users/cjs14/GitHub/pandas3js/pandas3js/views/jsmesh.py\u001b[0m(131)\u001b[0;36mtrait_dlink\u001b[0;34m()\u001b[0m\n",
      "\u001b[0;32m    129 \u001b[0;31m    \u001b[0;32mdef\u001b[0m \u001b[0mtrait_dlink\u001b[0m\u001b[0;34m(\u001b[0m\u001b[0mchange\u001b[0m\u001b[0;34m)\u001b[0m\u001b[0;34m:\u001b[0m\u001b[0;34m\u001b[0m\u001b[0m\n",
      "\u001b[0m\u001b[0;32m    130 \u001b[0;31m        \u001b[0mfunc\u001b[0m \u001b[0;34m=\u001b[0m \u001b[0mstr_to_obj\u001b[0m\u001b[0;34m(\u001b[0m\u001b[0mdic\u001b[0m\u001b[0;34m[\u001b[0m\u001b[0;34m'func'\u001b[0m\u001b[0;34m]\u001b[0m\u001b[0;34m)\u001b[0m\u001b[0;34m\u001b[0m\u001b[0m\n",
      "\u001b[0m\u001b[0;32m--> 131 \u001b[0;31m        \u001b[0mvalue\u001b[0m \u001b[0;34m=\u001b[0m \u001b[0mfunc\u001b[0m\u001b[0;34m(\u001b[0m\u001b[0;34m*\u001b[0m\u001b[0;34m[\u001b[0m\u001b[0mgetattr\u001b[0m\u001b[0;34m(\u001b[0m\u001b[0mgobject\u001b[0m\u001b[0;34m,\u001b[0m\u001b[0mv\u001b[0m\u001b[0;34m)\u001b[0m \u001b[0;32mfor\u001b[0m \u001b[0mv\u001b[0m \u001b[0;32min\u001b[0m \u001b[0mdic\u001b[0m\u001b[0;34m[\u001b[0m\u001b[0;34m'vars'\u001b[0m\u001b[0;34m]\u001b[0m\u001b[0;34m]\u001b[0m\u001b[0;34m)\u001b[0m\u001b[0;34m\u001b[0m\u001b[0m\n",
      "\u001b[0m\u001b[0;32m    132 \u001b[0;31m        \u001b[0mjsobject\u001b[0m\u001b[0;34m.\u001b[0m\u001b[0mset_trait\u001b[0m\u001b[0;34m(\u001b[0m\u001b[0mkey\u001b[0m\u001b[0;34m,\u001b[0m \u001b[0mvalue\u001b[0m\u001b[0;34m)\u001b[0m\u001b[0;34m\u001b[0m\u001b[0m\n",
      "\u001b[0m\u001b[0;32m    133 \u001b[0;31m    \u001b[0;31m# initialise jsobject to correct trait value\u001b[0m\u001b[0;34m\u001b[0m\u001b[0;34m\u001b[0m\u001b[0m\n",
      "\u001b[0m\n",
      "ipdb> dic\n",
      "{'vars': ('x', 'y', 'z', 'a', 'b', 'c'), 'func': 'pandas3js.views.jsmesh._make_box_vertices'}\n",
      "ipdb> exit\n"
     ]
    }
   ],
   "source": [
    "debug"
   ]
  },
  {
   "cell_type": "code",
   "execution_count": 8,
   "metadata": {},
   "outputs": [
    {
     "name": "stdout",
     "output_type": "stream",
     "text": [
      "<pythreejs.pythreejs.Line object at 0x11217b438>\n"
     ]
    },
    {
     "data": {
      "text/plain": [
       "1.0"
      ]
     },
     "execution_count": 8,
     "metadata": {},
     "output_type": "execute_result"
    }
   ],
   "source": [
    "import traitlets as trait\n",
    "import numpy as np\n",
    "\n",
    "from pandas3js.utils import str_to_obj, obj_to_str\n",
    "\n",
    "# rep=representation, var=static variable, \n",
    "# dmap=direct-mapping, fmap=functional-mapping\n",
    "gobject_jsmapping = {\n",
    "'pandas3js.models.idobject.Sphere':\n",
    "    {'grep':'pythreejs.SphereGeometry',\n",
    "     'gvar':{},\n",
    "     'gdmap':{'radius':'radius'}, \n",
    "     'gfmap':{},\n",
    "     \n",
    "     'matrep':'pythreejs.LambertMaterial', \n",
    "     'matvar':{},\n",
    "     'matdmap':{'visible':'visible','opacity':'transparency'},\n",
    "     'matfmap':{'transparent':{'vars':('transparency',),\n",
    "                               'func':'pandas3js.views.jsmesh._transparent'},\n",
    "                'color':{'vars':('color',),'func':'matplotlib.colors.to_hex'}},\n",
    "\n",
    "     'meshrep':'pythreejs.Mesh',\n",
    "     'meshvar':{},\n",
    "     'meshdmap':{},\n",
    "     'meshfmap':{'position':{'vars':('x','y','z'),\n",
    "                             'func':'pandas3js.views.jsmesh._tolist'}},\n",
    "    },\n",
    "'pandas3js.models.idobject.WireBox':\n",
    "    {'grep':'pythreejs.PlainGeometry',\n",
    "     'gvar':{},\n",
    "     'gdmap':{}, \n",
    "     'gfmap':{'vertices':{'vars':('x','y','z','a','b','c'),\n",
    "                          'func':'pandas3js.views.jsmesh._make_box_vertices'},\n",
    "              'colors':{'vars':('color',),\n",
    "                        'func':'pandas3js.views.jsmesh._make_box_colors'}},\n",
    "     \n",
    "     'matrep':'pythreejs.LineBasicMaterial', \n",
    "     'matvar':{'vertexColors':'VertexColors'},\n",
    "     'matdmap':{'visible':'visible','opacity':'transparency','linewidth':'linewidth'},\n",
    "     'matfmap':{'transparent':{'vars':('transparency',),\n",
    "                               'func':'pandas3js.views.jsmesh._transparent'}},\n",
    "\n",
    "     'meshrep':'pythreejs.Line',\n",
    "     'meshvar':{'type':'LinePieces'},\n",
    "     'meshdmap':{},\n",
    "     'meshfmap':{},\n",
    "    },\n",
    "}    \n",
    "\n",
    "def _create_trait_dlink(dic, key, gobject, jsobject):\n",
    "    # sync for jsobject to gobject trait value\n",
    "    def trait_dlink(change):\n",
    "        func = str_to_obj(dic['func'])\n",
    "        value = func(*[getattr(gobject,v) for v in dic['vars']])\n",
    "        jsobject.set_trait(key, value)\n",
    "    # initialise jsobject to correct trait value\n",
    "    trait_dlink(None)\n",
    "    return trait_dlink\n",
    "\n",
    "def create_jsmesh_view(gobject,mapping=None):\n",
    "    \"\"\"create PyThreeJS Text Mesh for GeometricObject\n",
    "    and with one-way synchronisation\n",
    "    \n",
    "    Properties\n",
    "    ----------\n",
    "    gobject : GeometricObject\n",
    "    mapping : None or dict\n",
    "        if None, use default mapping\n",
    "    \n",
    "    Examples\n",
    "    --------\n",
    "    \n",
    "    >>> from pandas3js import Sphere\n",
    "    >>> sphere = Sphere()\n",
    "    >>> mesh = create_jsmesh_view(sphere)\n",
    "    >>> mesh.position\n",
    "    [0.0, 0.0, 0.0]\n",
    "    >>> str(mesh.material.color)\n",
    "    '#ff0000'\n",
    "    \n",
    "    >>> sphere.x = 1.0\n",
    "    >>> mesh.position\n",
    "    [1.0, 0.0, 0.0]\n",
    "    \n",
    "    >>> sphere.color = (1,1,1)\n",
    "    >>> str(mesh.material.color)\n",
    "    '#ffffff'\n",
    "    \n",
    "    \"\"\"\n",
    "    class_str = obj_to_str(gobject)\n",
    "    if not class_str in gobject_jsmapping:\n",
    "        raise ValueError('No mapping available for {}'.format(class_str))\n",
    "    class_map = gobject_jsmapping[class_str]\n",
    "    \n",
    "    # create geometry\n",
    "    geometry = str_to_obj(class_map['grep'])()\n",
    "    \n",
    "    for key, val in class_map['gvar'].items():\n",
    "        geometry.set_trait(key, val)\n",
    "    for key, val in class_map['gdmap'].items():\n",
    "        trait.dlink((gobject, val), (geometry, key))\n",
    "    for gkey, gdic in class_map['gfmap'].items():\n",
    "        handle = _create_trait_dlink(gdic, gkey, gobject, geometry)\n",
    "        gobject.observe(handle,names=gdic['vars'])\n",
    "     \n",
    "    # create material\n",
    "    material = str_to_obj(class_map['matrep'])()\n",
    "    \n",
    "    for key, val in class_map['matvar'].items():\n",
    "        material.set_trait(key, val)\n",
    "    for key, val in class_map['matdmap'].items():\n",
    "        trait.dlink((gobject, val), (material, key))\n",
    "    for mkey, mdic in class_map['matfmap'].items():\n",
    "        handle = _create_trait_dlink(mdic, mkey, gobject, material)\n",
    "        gobject.observe(handle,names=mdic['vars'])\n",
    "\n",
    "    # create mesh\n",
    "    mesh = str_to_obj(class_map['meshrep'])(\n",
    "                geometry=geometry,material=material)\n",
    "    \n",
    "    for key, val in class_map['meshvar'].items():\n",
    "        mesh.set_trait(key, val)\n",
    "    for key, val in class_map['meshdmap'].items():\n",
    "        trait.dlink((gobject, val), (mesh, key))\n",
    "    for skey, sdic in class_map['meshfmap'].items():\n",
    "        handle = _create_trait_dlink(sdic, skey, gobject, mesh)\n",
    "        gobject.observe(handle,names=sdic['vars'])\n",
    "\n",
    "    return mesh\n",
    "    \n",
    "\n",
    "from pandas3js import WireBox\n",
    "sphere = WireBox()\n",
    "mesh = create_jsmesh_view(sphere)\n",
    "print(mesh)\n",
    "sphere.color = 'pink'\n",
    "mesh.material.linewidth"
   ]
  },
  {
   "cell_type": "code",
   "execution_count": 4,
   "metadata": {},
   "outputs": [
    {
     "name": "stdout",
     "output_type": "stream",
     "text": [
      "#ff0000\n",
      "#ff0000\n"
     ]
    },
    {
     "data": {
      "text/plain": [
       "'#ffffff'"
      ]
     },
     "execution_count": 4,
     "metadata": {},
     "output_type": "execute_result"
    }
   ],
   "source": [
    "    >>> from pandas3js import Sphere\n",
    "    >>> sphere = Sphere()\n",
    "    >>> mesh = create_jsmesh_view(sphere)\n",
    "    >>> mesh.position\n",
    "    [0.0, 0.0, 0.0]\n",
    "    >>> print(mesh.material.color)\n",
    "    '#ff0000'\n",
    "    \n",
    "    #>>> sphere.x = 1.0\n",
    "    >>> mesh.position\n",
    "    [1.0, 0.0, 0.0]\n",
    "    \n",
    "    >>> sphere.color = 'red'\n",
    "    >>> print(mesh.material.color)\n",
    "    '#ffffff'\n"
   ]
  },
  {
   "cell_type": "code",
   "execution_count": 103,
   "metadata": {},
   "outputs": [
    {
     "data": {
      "text/plain": [
       "'white'"
      ]
     },
     "execution_count": 103,
     "metadata": {},
     "output_type": "execute_result"
    }
   ],
   "source": [
    "sphere.notify_change()"
   ]
  },
  {
   "cell_type": "code",
   "execution_count": 8,
   "metadata": {},
   "outputs": [
    {
     "ename": "TypeError",
     "evalue": "list() takes at most 1 argument (3 given)",
     "output_type": "error",
     "traceback": [
      "\u001b[0;31m---------------------------------------------------------------------------\u001b[0m",
      "\u001b[0;31mTypeError\u001b[0m                                 Traceback (most recent call last)",
      "\u001b[0;32m<ipython-input-8-35a40972de2e>\u001b[0m in \u001b[0;36m<module>\u001b[0;34m()\u001b[0m\n\u001b[0;32m----> 1\u001b[0;31m \u001b[0mpjs\u001b[0m\u001b[0;34m.\u001b[0m\u001b[0mutils\u001b[0m\u001b[0;34m.\u001b[0m\u001b[0mstr_to_obj\u001b[0m\u001b[0;34m(\u001b[0m\u001b[0;34m'list'\u001b[0m\u001b[0;34m)\u001b[0m\u001b[0;34m(\u001b[0m\u001b[0;36m1\u001b[0m\u001b[0;34m,\u001b[0m\u001b[0;36m2\u001b[0m\u001b[0;34m,\u001b[0m\u001b[0;36m3\u001b[0m\u001b[0;34m)\u001b[0m\u001b[0;34m\u001b[0m\u001b[0m\n\u001b[0m",
      "\u001b[0;31mTypeError\u001b[0m: list() takes at most 1 argument (3 given)"
     ]
    }
   ],
   "source": []
  },
  {
   "cell_type": "code",
   "execution_count": 20,
   "metadata": {},
   "outputs": [
    {
     "name": "stdout",
     "output_type": "stream",
     "text": [
      "(1.0, 0.0, 0.0)\n"
     ]
    },
    {
     "data": {
      "text/plain": [
       "[1.0, 0.0, 0.0]"
      ]
     },
     "execution_count": 20,
     "metadata": {},
     "output_type": "execute_result"
    }
   ],
   "source": [
    "sphere.x = 1.0\n",
    "mesh.position"
   ]
  },
  {
   "cell_type": "code",
   "execution_count": 22,
   "metadata": {},
   "outputs": [
    {
     "data": {
      "application/vnd.jupyter.widget-view+json": {
       "model_id": "928c0e6b0ebd4f3b8c954da3121d9f77"
      }
     },
     "metadata": {},
     "output_type": "display_data"
    }
   ],
   "source": [
    "import numpy as np\n",
    "o = np.array([0,0,0])\n",
    "a = np.array([4,0,0])\n",
    "b = np.array([0,4,0])\n",
    "c = np.array([0,0,4])\n",
    "\n",
    "vertices = [o,o+a,\n",
    "           o,o+b,\n",
    "           o,o+c,\n",
    "           o+b, o+b+a,\n",
    "           o+b, o+b+c,\n",
    "           o+a, o+b+a,\n",
    "           o+a, o+a+c,\n",
    "           o+c, o+c+a,\n",
    "           o+c, o+c+b,\n",
    "           o+b+c+a, o+b+c,\n",
    "           o+b+c+a, o+b+a,\n",
    "           o+b+c+a, o+c+a,\n",
    "           ]\n",
    "geometry = tjs.PlainGeometry(vertices=[v.tolist() for v in vertices],\n",
    "                             colors = ['red']*len(vertices))\n",
    "material=tjs.LineBasicMaterial(linewidth=5, vertexColors='VertexColors')\n",
    "mesh = tjs.Line(geometry=geometry, \n",
    "                 material=material, \n",
    "                 type='LinePieces')\n",
    "\n",
    "\n",
    "scene = tjs.Scene(children=[lines, tjs.DirectionalLight(color='#ccaabb', \n",
    "                            position=[0,10,0]),tjs.AmbientLight(color='#cccccc')])\n",
    "c = tjs.PerspectiveCamera(position=[0, 10, 10])\n",
    "renderer = tjs.Renderer(camera=c, background='gray', background_opacity=1, \n",
    "                        scene = scene, controls=[tjs.OrbitControls(controlling=c)])\n",
    "display(renderer)"
   ]
  },
  {
   "cell_type": "code",
   "execution_count": 61,
   "metadata": {},
   "outputs": [
    {
     "name": "stdout",
     "output_type": "stream",
     "text": [
      "> \u001b[0;32m<ipython-input-60-3cf9cf68fc68>\u001b[0m(85)\u001b[0;36mcreate_jsmesh_view\u001b[0;34m()\u001b[0m\n",
      "\u001b[0;32m     83 \u001b[0;31m        \u001b[0;32mdef\u001b[0m \u001b[0mmtrait_link\u001b[0m\u001b[0;34m(\u001b[0m\u001b[0mchange\u001b[0m\u001b[0;34m)\u001b[0m\u001b[0;34m:\u001b[0m\u001b[0;34m\u001b[0m\u001b[0m\n",
      "\u001b[0m\u001b[0;32m     84 \u001b[0;31m            \u001b[0mmaterial\u001b[0m\u001b[0;34m.\u001b[0m\u001b[0mset_trait\u001b[0m\u001b[0;34m(\u001b[0m\u001b[0mkey\u001b[0m\u001b[0;34m,\u001b[0m \u001b[0mstr_to_obj\u001b[0m\u001b[0;34m(\u001b[0m\u001b[0mmdic\u001b[0m\u001b[0;34m[\u001b[0m\u001b[0;34m'func'\u001b[0m\u001b[0;34m]\u001b[0m\u001b[0;34m)\u001b[0m\u001b[0;34m(\u001b[0m\u001b[0;34m*\u001b[0m\u001b[0;34m[\u001b[0m\u001b[0mgetattr\u001b[0m\u001b[0;34m(\u001b[0m\u001b[0mgobject\u001b[0m\u001b[0;34m,\u001b[0m\u001b[0mv\u001b[0m\u001b[0;34m)\u001b[0m \u001b[0;32mfor\u001b[0m \u001b[0mv\u001b[0m \u001b[0;32min\u001b[0m \u001b[0mmdic\u001b[0m\u001b[0;34m[\u001b[0m\u001b[0;34m'matvars'\u001b[0m\u001b[0;34m]\u001b[0m\u001b[0;34m]\u001b[0m\u001b[0;34m)\u001b[0m\u001b[0;34m)\u001b[0m\u001b[0;34m\u001b[0m\u001b[0m\n",
      "\u001b[0m\u001b[0;32m---> 85 \u001b[0;31m        \u001b[0mgobject\u001b[0m\u001b[0;34m.\u001b[0m\u001b[0mobserve\u001b[0m\u001b[0;34m(\u001b[0m\u001b[0mmtrait_link\u001b[0m\u001b[0;34m,\u001b[0m\u001b[0mnames\u001b[0m\u001b[0;34m=\u001b[0m\u001b[0mmdic\u001b[0m\u001b[0;34m[\u001b[0m\u001b[0;34m'matvars'\u001b[0m\u001b[0;34m]\u001b[0m\u001b[0;34m)\u001b[0m\u001b[0;34m\u001b[0m\u001b[0m\n",
      "\u001b[0m\u001b[0;32m     86 \u001b[0;31m\u001b[0;34m\u001b[0m\u001b[0m\n",
      "\u001b[0m\u001b[0;32m     87 \u001b[0;31m    \u001b[0;31m# create mesh\u001b[0m\u001b[0;34m\u001b[0m\u001b[0;34m\u001b[0m\u001b[0m\n",
      "\u001b[0m\n",
      "ipdb> mdic\n",
      "{'vars': ('transparency',), 'func': 'pandas3js.views.jsmesh.transparent'}\n",
      "ipdb> exit\n"
     ]
    }
   ],
   "source": [
    "debug"
   ]
  },
  {
   "cell_type": "code",
   "execution_count": 7,
   "metadata": {},
   "outputs": [
    {
     "data": {
      "application/vnd.jupyter.widget-view+json": {
       "model_id": "b72457281600405580e53bc802b7254d"
      }
     },
     "metadata": {},
     "output_type": "display_data"
    }
   ],
   "source": [
    "size = 4\n",
    "linesgeom = tjs.PlainGeometry(vertices=[[0, 0, 0],\n",
    "                                    [size, 0, 0],\n",
    "                                    [0, 0, 0],\n",
    "                                    [0, size, 0],\n",
    "                                    [0, 0, 0],\n",
    "                                    [0, 0, size]],\n",
    "                          colors = ['red', 'red', 'green', 'green', 'white', 'orange'])\n",
    "lines = tjs.Line(geometry=linesgeom, \n",
    "             material=tjs.LineBasicMaterial(linewidth=5, vertexColors='VertexColors'), \n",
    "             type='LinePieces')\n",
    "scene = tjs.Scene(children=[lines, tjs.DirectionalLight(color='#ccaabb', \n",
    "                            position=[0,10,0]),tjs.AmbientLight(color='#cccccc')])\n",
    "c = tjs.PerspectiveCamera(position=[0, 10, 10])\n",
    "renderer = tjs.Renderer(camera=c, background='black', background_opacity=1, \n",
    "                        scene = scene, controls=[tjs.OrbitControls(controlling=c)])\n",
    "display(renderer)"
   ]
  },
  {
   "cell_type": "code",
   "execution_count": 9,
   "metadata": {},
   "outputs": [
    {
     "data": {
      "application/vnd.jupyter.widget-view+json": {
       "model_id": "b4dd6f92d5504d68bef1c301535cac8e"
      }
     },
     "metadata": {},
     "output_type": "display_data"
    }
   ],
   "source": [
    "import ipywidgets as widgets\n",
    "\n",
    "collection = pjs.GeometricCollection()\n",
    "\n",
    "scene = pjs.create_js_scene_view(collection,add_objects=True,add_labels=True)\n",
    "\n",
    "camera, renderer = pjs.create_jsrenderer(scene,view=(1,-1,-1,1))\n",
    "\n",
    "select = widgets.SelectionSlider(\n",
    "    options=optsteps,\n",
    "#    value=sortkeys[0],\n",
    "    description='Configuration:',\n",
    "    disabled=False,\n",
    "    continuous_update=False,\n",
    "    orientation='horizontal',\n",
    "    readout=True,\n",
    "#     readout_format='i',\n",
    "     slider_color='black'\n",
    ")\n",
    "def format_label(s):\n",
    "    s = ''.join([i for i in s if not i.isdigit()])\n",
    "    return s.lower().capitalize()\n",
    "\n",
    "def change_config(step,label=False):\n",
    "    sdict = optimisation[step]['crystallographic']['geometry']\n",
    "    df = pd.DataFrame(sdict)\n",
    "    df.rename(columns={'x/a':'x','y/b':'y','z/c':'z'},\n",
    "             inplace=True)\n",
    "    #df['otype'] = 'Sphere'\n",
    "    df.label = df.label.apply(format_label)\n",
    "    df['radius'] = 0.1\n",
    "    df['color'] = 'red'\n",
    "    df.set_value(df['label']=='Fe','color','blue')\n",
    "    df['label_color'] = df.color\n",
    "    df['visible'] = not label\n",
    "    df['label_visible'] = label\n",
    "    collection.change_by_df(df,columns=['id','label','x','y','z','radius',\n",
    "                                       'color', 'label_color','visible','label_visible'],\n",
    "                            otype_default='pandas3js.Sphere')\n",
    "toggle=widgets.Checkbox(\n",
    "    value=False,\n",
    "    description='View Label:',\n",
    "    disabled=False\n",
    ")\n",
    "def handle_toggle(change):\n",
    "    change_config(select.value, change.new)\n",
    "toggle.observe(handle_toggle,names='value')\n",
    "\n",
    "def handle_slider(change):\n",
    "    change_config(change.new, toggle.value)\n",
    "select.observe(handle_slider,names='value')\n",
    "select.value = optsteps[-1]\n",
    "\n",
    "widgets.VBox([widgets.HBox([select,toggle]),renderer])"
   ]
  },
  {
   "cell_type": "code",
   "execution_count": null,
   "metadata": {
    "collapsed": true
   },
   "outputs": [],
   "source": []
  }
 ],
 "metadata": {
  "hide_input": false,
  "kernelspec": {
   "display_name": "Python 3",
   "language": "python",
   "name": "python3"
  },
  "language_info": {
   "codemirror_mode": {
    "name": "ipython",
    "version": 3
   },
   "file_extension": ".py",
   "mimetype": "text/x-python",
   "name": "python",
   "nbconvert_exporter": "python",
   "pygments_lexer": "ipython3",
   "version": "3.6.1"
  },
  "toc": {
   "colors": {
    "hover_highlight": "#DAA520",
    "navigate_num": "#000000",
    "navigate_text": "#333333",
    "running_highlight": "#FF0000",
    "selected_highlight": "#FFD700",
    "sidebar_border": "#EEEEEE",
    "wrapper_background": "#FFFFFF"
   },
   "moveMenuLeft": true,
   "nav_menu": {
    "height": "12px",
    "width": "252px"
   },
   "navigate_menu": true,
   "number_sections": true,
   "sideBar": true,
   "threshold": 4,
   "toc_cell": false,
   "toc_section_display": "block",
   "toc_window_display": false,
   "widenNotebook": false
  }
 },
 "nbformat": 4,
 "nbformat_minor": 2
}
