{
 "cells": [
  {
   "cell_type": "code",
   "execution_count": 1,
   "metadata": {},
   "outputs": [
    {
     "name": "stdout",
     "output_type": "stream",
     "text": [
      "0.0.3\n",
      "0.1.3.3\n"
     ]
    }
   ],
   "source": [
    "import pandas3js as pjs\n",
    "print(pjs.__version__)\n",
    "import jsonextended as ejson\n",
    "print(ejson.__version__)\n",
    "import pandas as pd"
   ]
  },
  {
   "cell_type": "code",
   "execution_count": 17,
   "metadata": {},
   "outputs": [
    {
     "name": "stdout",
     "output_type": "stream",
     "text": [
      "dir1: \n",
      "  dir1_1: \n",
      "    file1_1: {...}\n",
      "  file1: \n",
      "    initial: {...}\n",
      "    meta: {...}\n",
      "    optimised: {...}\n",
      "    units: {...}\n",
      "  file2: \n",
      "    initial: {...}\n",
      "    meta: {...}\n",
      "    optimisation: {...}\n",
      "    optimised: {...}\n",
      "    units: {...}\n",
      "dir2: \n",
      "  file1: \n",
      "    initial: {...}\n",
      "    meta: {...}\n",
      "    optimisation: {...}\n",
      "    optimised: {...}\n",
      "    units: {...}\n",
      "dir3: \n"
     ]
    }
   ],
   "source": [
    "data = ejson.json_to_dict(ejson.get_test_path())\n",
    "ejson.dict_pprint(data, depth=3)"
   ]
  },
  {
   "cell_type": "code",
   "execution_count": 18,
   "metadata": {},
   "outputs": [
    {
     "data": {
      "text/plain": [
       "count       89.000000\n",
       "mean    -24062.286741\n",
       "std          0.012361\n",
       "min     -24062.293964\n",
       "25%     -24062.293727\n",
       "50%     -24062.293491\n",
       "75%     -24062.278072\n",
       "max     -24062.207939\n",
       "dtype: float64"
      ]
     },
     "execution_count": 18,
     "metadata": {},
     "output_type": "execute_result"
    }
   ],
   "source": [
    "data = ejson.dict_remove_paths(data, ['units'])\n",
    "energies = ejson.dict_filter_keys(data, ['energy'])\n",
    "pd.Series(ejson.dict_flatten(energies)).describe()"
   ]
  },
  {
   "cell_type": "code",
   "execution_count": 21,
   "metadata": {},
   "outputs": [
    {
     "data": {
      "text/plain": [
       "count    8.900000e+01\n",
       "mean    -9.214157e-19\n",
       "std      4.733481e-25\n",
       "min     -9.214159e-19\n",
       "25%     -9.214159e-19\n",
       "50%     -9.214159e-19\n",
       "75%     -9.214153e-19\n",
       "max     -9.214126e-19\n",
       "dtype: float64"
      ]
     },
     "execution_count": 21,
     "metadata": {},
     "output_type": "execute_result"
    }
   ],
   "source": [
    "energies = ejson.units.apply_unitschema(energies, {'energy':'eV'})\n",
    "energies = ejson.units.apply_unitschema(energies, {'energy':'kcal'},as_quantity=False)\n",
    "pd.Series(ejson.dict_flatten(energies)).describe()"
   ]
  },
  {
   "cell_type": "code",
   "execution_count": 23,
   "metadata": {},
   "outputs": [
    {
     "name": "stdout",
     "output_type": "stream",
     "text": [
      "[u'2', u'3', u'4', u'5', u'6', u'7', u'8', u'9', u'10', u'11', u'12', u'13', u'14', u'15', u'16', u'17', u'18', u'19', u'20', u'21', u'22', u'23', u'24', u'25', u'26', u'27', u'28', u'29', u'30', u'31', u'32', u'33', u'34', u'35', u'36', u'37', u'38', u'39', u'40', u'41', u'42', u'43', u'44', u'45', u'46', u'47', u'48', u'49', u'50', u'51', u'52', u'53', u'54', u'55', u'56', u'57', u'58', u'59', u'60', u'61', u'62', u'63', u'64', u'65', u'66', u'67', u'68', u'69', u'70', u'71', u'72', u'73', u'74', u'75', u'76', u'77', u'78', u'79', u'80', u'81', u'82', u'83', u'84', u'85', u'86', u'87', u'88', u'89', u'90']\n"
     ]
    }
   ],
   "source": [
    "optimisation = ejson.dict_multiindex(data,['dir1','file2','optimisation','steps'])\n",
    "optsteps = sorted(optimisation.keys(), key=ejson.core._natural_keys)\n",
    "print(optsteps)"
   ]
  },
  {
   "cell_type": "code",
   "execution_count": 32,
   "metadata": {},
   "outputs": [
    {
     "name": "stdout",
     "output_type": "stream",
     "text": [
      "crystallographic: \n",
      "  geometry: \n",
      "    assym:         [True, False, False, False, True, False, False, False, True, \n",
      "                   False, False, False, True, False, False, False, True, False, \n",
      "                   False, False, True, False, False, False, True, False, False, \n",
      "                   False, True, False]\n",
      "    atomic_number: [16, 16, 16, 16, 16, 16, 16, 16, 16, 16, 16, 16, 16, 16, 16, \n",
      "                   16, 26, 26, 26, 26, 26, 26, 26, 26, 26, 26, 26, 26, 26, 26]\n",
      "    id:            [1, 2, 3, 4, 5, 6, 7, 8, 9, 10, 11, 12, 13, 14, 15, 16, 17, \n",
      "                   18, 19, 20, 21, 22, 23, 24, 25, 26, 27, 28, 29, 30]\n",
      "    label:         ['S', 'S', 'S', 'S', 'S', 'S', 'S', 'S', 'S', 'S', 'S', 'S', \n",
      "                   'S', 'S', 'S', 'S', 'FE', 'FE', 'FE', 'FE', 'FE1', 'FE1', \n",
      "                   'FE1', 'FE1', 'FE', 'FE', 'FE', 'FE', 'FE1', 'FE1']\n",
      "    x/a:           [-0.09616823805925, 0.09616823805925, 0.09616823805925, \n",
      "                   -0.09616823805925, -0.1508611685218, -0.3491388314782, \n",
      "                   0.1508611685218, 0.3491388314782, 0.1460322841138, \n",
      "                   -0.1460322841138, -0.1460322841138, 0.1460322841138, \n",
      "                   -0.3995722030227, -0.1004277969773, 0.3995722030227, \n",
      "                   0.1004277969773, 0.1264939674055, -0.1264939674055, \n",
      "                   -0.1264939674055, 0.1264939674055, -0.2558689756026, \n",
      "                   -0.2441310243974, 0.2558689756026, 0.2441310243974, \n",
      "                   0.3608336370564, 0.1391663629436, -0.3608336370564, \n",
      "                   -0.1391663629436, 2.775557561563e-17, -2.775557561563e-17]\n",
      "    y/b:           [-0.1248441927739, -0.1248441927739, 0.1248441927739, \n",
      "                   0.1248441927739, 0.3752972932967, -0.1247027067033, \n",
      "                   -0.3752972932967, 0.1247027067033, 0.1263035893231, \n",
      "                   0.1263035893231, -0.1263035893231, -0.1263035893231, \n",
      "                   0.1301299242341, -0.3698700757659, -0.1301299242341, \n",
      "                   0.3698700757659, -0.1032031289162, -0.1032031289162, \n",
      "                   0.1032031289162, 0.1032031289162, -0.1191142911879, \n",
      "                   0.3808857088121, 0.1191142911879, -0.3808857088121, \n",
      "                   0.1445739971451, -0.3554260028549, -0.1445739971451, \n",
      "                   0.3554260028549, -0.3780752252193, 0.3780752252193]\n",
      "    z/c:           [0.3837117211236, 0.1162882788764, -0.3837117211236, \n",
      "                   -0.1162882788764, -0.3854685452868, -0.1145314547132, \n",
      "                   0.3854685452868, 0.1145314547132, 0.3611870389789, \n",
      "                   0.1388129610211, -0.3611870389789, -0.1388129610211, \n",
      "                   -0.3801666252413, -0.1198333747587, 0.3801666252413, \n",
      "                   0.1198333747587, 0.4901707655849, 0.009829234415058, \n",
      "                   -0.4901707655849, -0.009829234415058, -0.2468772542166, \n",
      "                   -0.2531227457834, 0.2468772542166, 0.2531227457834, \n",
      "                   -0.4948465880177, -0.005153411982256, 0.4948465880177, \n",
      "                   0.005153411982255, -0.25, 0.25]\n",
      "  lattice_parameters: \n",
      "    a:     12.03000533\n",
      "    alpha: 90.0\n",
      "    b:     6.94819922\n",
      "    beta:  118.309917\n",
      "    c:     13.03848494\n",
      "    gamma: 90.0\n",
      "  volume: 959.49545054\n",
      "energy: -24062.2079387\n",
      "primitive: \n",
      "  density: 4.481\n",
      "  geometry: {...}\n",
      "  lattice_parameters: {...}\n",
      "  volume:  479.747725\n"
     ]
    }
   ],
   "source": [
    "ejson.dict_pprint(optimisation['2'],depth=None,no_values=False)"
   ]
  },
  {
   "cell_type": "code",
   "execution_count": 29,
   "metadata": {},
   "outputs": [
    {
     "data": {
      "text/html": [
       "<style>\n",
       "    .renderjson a              { text-decoration: none; }\n",
       "    .renderjson .disclosure    { color: red;\n",
       "                                 font-size: 125%; }\n",
       "    .renderjson .syntax        { color: darkgrey; }\n",
       "    .renderjson .string        { color: black; }\n",
       "    .renderjson .number        { color: black; }\n",
       "    .renderjson .boolean       { color: purple; }\n",
       "    .renderjson .key           { color: royalblue; }\n",
       "    .renderjson .keyword       { color: orange; }\n",
       "    .renderjson .object.syntax { color: lightseagreen; }\n",
       "    .renderjson .array.syntax  { color: lightseagreen; }\n",
       "    </style><div id=\"477576dc-fa67-48f4-ac6b-bc966e0eb3b8\" style=\"max-height: 600px; width:100%%;\"></div>\n",
       "                <script>\n",
       "            require([\"jsonextended/renderjson.js\"], function() {\n",
       "                document.getElementById(\"477576dc-fa67-48f4-ac6b-bc966e0eb3b8\").appendChild(\n",
       "                    renderjson.set_max_string_length(20)\n",
       "                              //.set_icons(circled plus, circled minus)\n",
       "                              .set_icons(String.fromCharCode(8853), String.fromCharCode(8854))\n",
       "                              .set_sort_objects(true)\n",
       "                              .set_show_to_level(2)({\"energy\": -24062.207938715, \"primitive\": {\"geometry\": {\"z/c\": [0.3837117211236, 0.1162882788764, -0.3837117211236, -0.1162882788764, -0.3854685452868, -0.1145314547132, 0.3854685452868, 0.1145314547132, 0.3611870389789, 0.1388129610211, -0.3611870389789, -0.1388129610211, -0.3801666252413, -0.1198333747587, 0.3801666252413, 0.1198333747587, 0.4901707655849, 0.009829234415058, -0.4901707655849, -0.009829234415058, -0.2468772542166, -0.2531227457834, 0.2468772542166, 0.2531227457834, -0.4948465880177, -0.005153411982256, 0.4948465880177, 0.005153411982255, -0.25, 0.25], \"atomic_number\": [16, 16, 16, 16, 16, 16, 16, 16, 16, 16, 16, 16, 16, 16, 16, 16, 26, 26, 26, 26, 26, 26, 26, 26, 26, 26, 26, 26, 26, 26], \"y/b\": [-0.0286759547147, -0.2210124308332, 0.0286759547147, 0.2210124308332, -0.4738415381816, 0.2244361247749, 0.4738415381816, -0.2244361247749, -0.01972869479072, 0.2723358734368, 0.01972869479072, -0.2723358734368, -0.4702978727433, -0.2694422787886, 0.4702978727433, 0.2694422787886, -0.2296970963217, 0.02329083848925, 0.2296970963217, -0.02329083848925, 0.1367546844147, -0.3749832667905, -0.1367546844147, 0.3749832667905, -0.2162596399113, -0.4945923657986, 0.2162596399113, 0.4945923657986, -0.3780752252193, 0.3780752252193], \"label\": [\"S\", \"S\", \"S\", \"S\", \"S\", \"S\", \"S\", \"S\", \"S\", \"S\", \"S\", \"S\", \"S\", \"S\", \"S\", \"S\", \"FE\", \"FE\", \"FE\", \"FE\", \"FE1\", \"FE1\", \"FE1\", \"FE1\", \"FE\", \"FE\", \"FE\", \"FE\", \"FE1\", \"FE1\"], \"x/a\": [-0.2210124308332, -0.0286759547147, 0.2210124308332, 0.0286759547147, 0.2244361247749, -0.4738415381816, -0.2244361247749, 0.4738415381816, 0.2723358734368, -0.01972869479072, -0.2723358734368, 0.01972869479072, -0.2694422787886, -0.4702978727433, 0.2694422787886, 0.4702978727433, 0.02329083848925, -0.2296970963217, -0.02329083848925, 0.2296970963217, -0.3749832667905, 0.1367546844147, 0.3749832667905, -0.1367546844147, -0.4945923657986, -0.2162596399113, 0.4945923657986, 0.2162596399113, -0.3780752252193, 0.3780752252193], \"assym\": [true, false, false, false, true, false, false, false, true, false, false, false, true, false, false, false, true, false, false, false, true, false, false, false, true, false, false, false, true, false], \"id\": [1, 2, 3, 4, 5, 6, 7, 8, 9, 10, 11, 12, 13, 14, 15, 16, 17, 18, 19, 20, 21, 22, 23, 24, 25, 26, 27, 28, 29, 30]}, \"volume\": 479.747725, \"density\": 4.481, \"lattice_parameters\": {\"a\": 6.94619501, \"c\": 13.03848494, \"b\": 6.94619501, \"beta\": 114.246609, \"alpha\": 65.753391, \"gamma\": 119.98091}}, \"crystallographic\": {\"geometry\": {\"z/c\": [0.3837117211236, 0.1162882788764, -0.3837117211236, -0.1162882788764, -0.3854685452868, -0.1145314547132, 0.3854685452868, 0.1145314547132, 0.3611870389789, 0.1388129610211, -0.3611870389789, -0.1388129610211, -0.3801666252413, -0.1198333747587, 0.3801666252413, 0.1198333747587, 0.4901707655849, 0.009829234415058, -0.4901707655849, -0.009829234415058, -0.2468772542166, -0.2531227457834, 0.2468772542166, 0.2531227457834, -0.4948465880177, -0.005153411982256, 0.4948465880177, 0.005153411982255, -0.25, 0.25], \"atomic_number\": [16, 16, 16, 16, 16, 16, 16, 16, 16, 16, 16, 16, 16, 16, 16, 16, 26, 26, 26, 26, 26, 26, 26, 26, 26, 26, 26, 26, 26, 26], \"y/b\": [-0.1248441927739, -0.1248441927739, 0.1248441927739, 0.1248441927739, 0.3752972932967, -0.1247027067033, -0.3752972932967, 0.1247027067033, 0.1263035893231, 0.1263035893231, -0.1263035893231, -0.1263035893231, 0.1301299242341, -0.3698700757659, -0.1301299242341, 0.3698700757659, -0.1032031289162, -0.1032031289162, 0.1032031289162, 0.1032031289162, -0.1191142911879, 0.3808857088121, 0.1191142911879, -0.3808857088121, 0.1445739971451, -0.3554260028549, -0.1445739971451, 0.3554260028549, -0.3780752252193, 0.3780752252193], \"label\": [\"S\", \"S\", \"S\", \"S\", \"S\", \"S\", \"S\", \"S\", \"S\", \"S\", \"S\", \"S\", \"S\", \"S\", \"S\", \"S\", \"FE\", \"FE\", \"FE\", \"FE\", \"FE1\", \"FE1\", \"FE1\", \"FE1\", \"FE\", \"FE\", \"FE\", \"FE\", \"FE1\", \"FE1\"], \"x/a\": [-0.09616823805925, 0.09616823805925, 0.09616823805925, -0.09616823805925, -0.1508611685218, -0.3491388314782, 0.1508611685218, 0.3491388314782, 0.1460322841138, -0.1460322841138, -0.1460322841138, 0.1460322841138, -0.3995722030227, -0.1004277969773, 0.3995722030227, 0.1004277969773, 0.1264939674055, -0.1264939674055, -0.1264939674055, 0.1264939674055, -0.2558689756026, -0.2441310243974, 0.2558689756026, 0.2441310243974, 0.3608336370564, 0.1391663629436, -0.3608336370564, -0.1391663629436, 2.775557561563e-17, -2.775557561563e-17], \"assym\": [true, false, false, false, true, false, false, false, true, false, false, false, true, false, false, false, true, false, false, false, true, false, false, false, true, false, false, false, true, false], \"id\": [1, 2, 3, 4, 5, 6, 7, 8, 9, 10, 11, 12, 13, 14, 15, 16, 17, 18, 19, 20, 21, 22, 23, 24, 25, 26, 27, 28, 29, 30]}, \"volume\": 959.49545054, \"lattice_parameters\": {\"a\": 12.03000533, \"c\": 13.03848494, \"b\": 6.94819922, \"beta\": 118.309917, \"alpha\": 90.0, \"gamma\": 90.0}}}))\n",
       "            });</script>"
      ],
      "text/plain": [
       "<jsonextended.core.dict_to_html at 0x116038d50>"
      ]
     },
     "execution_count": 29,
     "metadata": {},
     "output_type": "execute_result"
    }
   ],
   "source": [
    "ejson.dict_to_html(optimisation['2'])"
   ]
  },
  {
   "cell_type": "code",
   "execution_count": 30,
   "metadata": {
    "collapsed": true
   },
   "outputs": [],
   "source": [
    "geometry = pjs.GeometricCollection()\n"
   ]
  },
  {
   "cell_type": "code",
   "execution_count": 38,
   "metadata": {},
   "outputs": [
    {
     "data": {
      "application/vnd.jupyter.widget-view+json": {
       "model_id": "2af5920dbd1943a38cd7e9ab0eb86bd3"
      }
     },
     "metadata": {},
     "output_type": "display_data"
    }
   ],
   "source": [
    "import ipywidgets as widgets\n",
    "\n",
    "collection = pjs.GeometricCollection()\n",
    "\n",
    "scene = pjs.create_js_scene_view(collection,add_objects=True,add_labels=True)\n",
    "\n",
    "camera, renderer = pjs.create_jsrenderer(scene,view=(1,-1,-1,1))\n",
    "\n",
    "select = widgets.SelectionSlider(\n",
    "    options=optsteps,\n",
    "#    value=sortkeys[0],\n",
    "    description='Configuration:',\n",
    "    disabled=False,\n",
    "    continuous_update=False,\n",
    "    orientation='horizontal',\n",
    "    readout=True,\n",
    "#     readout_format='i',\n",
    "     slider_color='black'\n",
    ")\n",
    "def format_label(s):\n",
    "    s = ''.join([i for i in s if not i.isdigit()])\n",
    "    return s.lower().capitalize()\n",
    "\n",
    "def change_config(step,label=False):\n",
    "    sdict = optimisation[step]['crystallographic']['geometry']\n",
    "    df = pd.DataFrame(sdict)\n",
    "    df.rename(columns={'x/a':'x','y/b':'y','z/c':'z'},\n",
    "             inplace=True)\n",
    "    #df['otype'] = 'Sphere'\n",
    "    df.label = df.label.apply(format_label)\n",
    "    df['radius'] = 0.1\n",
    "    df['color'] = 'red'\n",
    "    df.set_value(df['label']=='Fe','color','blue')\n",
    "    df['label_color'] = df.color\n",
    "    df['visible'] = not label\n",
    "    df['label_visible'] = label\n",
    "    collection.change_by_df(df,columns=['id','label','x','y','z','radius',\n",
    "                                       'color', 'label_color','visible','label_visible'],\n",
    "                            otype_default='pandas3js.Sphere')\n",
    "toggle=widgets.Checkbox(\n",
    "    value=False,\n",
    "    description='View Label:',\n",
    "    disabled=False\n",
    ")\n",
    "def handle_toggle(change):\n",
    "    change_config(select.value, change.new)\n",
    "toggle.observe(handle_toggle,names='value')\n",
    "\n",
    "def handle_slider(change):\n",
    "    change_config(change.new, toggle.value)\n",
    "select.observe(handle_slider,names='value')\n",
    "select.value = optsteps[-1]\n",
    "\n",
    "widgets.VBox([widgets.HBox([select,toggle]),renderer])"
   ]
  },
  {
   "cell_type": "code",
   "execution_count": null,
   "metadata": {
    "collapsed": true
   },
   "outputs": [],
   "source": []
  }
 ],
 "metadata": {
  "hide_input": false,
  "kernelspec": {
   "display_name": "Python 2",
   "language": "python",
   "name": "python2"
  },
  "language_info": {
   "codemirror_mode": {
    "name": "ipython",
    "version": 2
   },
   "file_extension": ".py",
   "mimetype": "text/x-python",
   "name": "python",
   "nbconvert_exporter": "python",
   "pygments_lexer": "ipython2",
   "version": "2.7.13"
  },
  "toc": {
   "navigate_menu": true,
   "number_sections": true,
   "sideBar": true,
   "threshold": 4,
   "toc_cell": false,
   "toc_section_display": "block",
   "toc_window_display": false
  }
 },
 "nbformat": 4,
 "nbformat_minor": 2
}
